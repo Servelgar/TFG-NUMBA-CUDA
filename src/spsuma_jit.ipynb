{
 "cells": [
  {
   "cell_type": "markdown",
   "id": "b0e906fb-e13f-42af-85d0-378167cddcf7",
   "metadata": {},
   "source": [
    "# SPSUMA VERSION JIT"
   ]
  },
  {
   "cell_type": "code",
   "execution_count": 2,
   "id": "175150fb-3140-45f9-afc9-dbb884a46f02",
   "metadata": {
    "tags": []
   },
   "outputs": [
    {
     "name": "stdout",
     "output_type": "stream",
     "text": [
      "['/home/servelgar/tfg-cuda/src', '/usr/lib64/python39.zip', '/usr/lib64/python3.9', '/usr/lib64/python3.9/lib-dynload', '', '/home/servelgar/.local/lib/python3.9/site-packages', '/usr/local/lib64/python3.9/site-packages', '/usr/local/lib/python3.9/site-packages', '/usr/lib64/python3.9/site-packages', '/usr/lib/python3.9/site-packages', '/home/servelgar/tfg-cuda/vm/examples', '/home/servelgar/tfg-cuda/vm/src', '/home/servelgar/tfg-cuda/vm/tests', '/home/servelgar/tfg-cuda/vm/examples', '/home/servelgar/tfg-cuda/vm/src', '/home/servelgar/tfg-cuda/vm/tests']\n"
     ]
    }
   ],
   "source": [
    "import math\n",
    "import random\n",
    "from numba import cuda,jit,njit\n",
    "import numpy as np\n",
    "from numba.cuda.random import create_xoroshiro128p_states, xoroshiro128p_uniform_float32\n",
    "import time\n",
    "import matplotlib.pyplot as plt   \n",
    "import sys\n",
    "import os\n",
    "sys.path.append(\"/home/servelgar/tfg-cuda/vm/examples\")\n",
    "sys.path.append(\"/home/servelgar/tfg-cuda/vm/src\")\n",
    "sys.path.append(\"/home/servelgar/tfg-cuda/vm/tests\")\n",
    "print(sys.path)\n",
    "from basicprobabilistic import basicprobabilistic\n",
    "from spsuma import spsuma"
   ]
  },
  {
   "cell_type": "code",
   "execution_count": 9,
   "id": "efe9f394-71fb-4c8e-80e9-92f21f035224",
   "metadata": {
    "tags": []
   },
   "outputs": [],
   "source": [
    "@njit\n",
    "def spsuma(array_comp, initial_instructions):\n",
    "    for i in range(1, array_comp.shape[0]):\n",
    "        if(array_comp[i-1][0] != 0 and array_comp[i-1][1] != 0):\n",
    "            for j in range(initial_instructions.shape[0]):   \n",
    "                array_comp[i][j] = array_comp[i-1][j] - 1\n",
    "                array_comp[i][2] = array_comp[i-1][2] + initial_instructions.shape[0] # sin pesos, voy a sumar la cantidad de instrucciones que se activen\n",
    "                array_comp[i][3] = 2\n",
    "        elif(array_comp[i-1][0] == 0 and array_comp[i-1][1] == 0):\n",
    "            sol = array_comp[i-1][2]\n",
    "            for j in range(array_comp.shape[0] - i):\n",
    "                array_comp[j + i][2] = sol\n",
    "                array_comp[j + i][3] = -1\n",
    "        else:\n",
    "            # mono instrucción por step:\n",
    "            if (array_comp[i-1][0] == 0 and array_comp[i-1][1] != 0):\n",
    "                array_comp[i][1] = array_comp[i-1][1] - 1\n",
    "                array_comp[i][2] = array_comp[i-1][2] + 1\n",
    "                array_comp[i][3] = 1\n",
    "            \n",
    "            elif(array_comp[i-1][1] == 0 and array_comp[i-1][0] != 0):\n",
    "                array_comp[i][0] = array_comp[i-1][0] - 1\n",
    "                array_comp[i][2] = array_comp[i-1][2] + 1\n",
    "                array_comp[i][3] = 0\n",
    "    \n",
    "    return array_comp"
   ]
  },
  {
   "cell_type": "code",
   "execution_count": 10,
   "id": "aee9990e-a220-4bad-8f04-74c6b945fcc8",
   "metadata": {
    "tags": []
   },
   "outputs": [],
   "source": [
    "def solucion_spsuma_cuda(array_comp):\n",
    "    tam = array_comp.shape[0]\n",
    "    s = f\"sofparallel suma: {n_steps} steps\\n\"\n",
    "    s += f\"--STEP 0--\\n\"\n",
    "    s += f\"nº virus HOST 1: {n1}\\n\"\n",
    "    s += f\"nº virus HOST 2: {n2}\\n\"\n",
    "    s += f\"Actividades en paralelo: (i1, i2)\\n\"\n",
    "    if tam <= 10:\n",
    "        for i in range(1,tam):\n",
    "            s += f\"--STEP {i}--\\n\"\n",
    "            if (array_comp[i][3] == 2):\n",
    "                s += \"Actividades en paralelo: (i1,i2)\\n\"\n",
    "            elif (array_comp[i][3] == 1):\n",
    "                s += \"Actividad: i2\\n\"\n",
    "            elif (array_comp[i][3] == 0):\n",
    "                s += \"Actividad: i1\\n\"\n",
    "            else:\n",
    "                s += \"Actividad i3.\\n\"\n",
    "                s += \"FINAL DE LA SIMULACION\\n\"\n",
    "\n",
    "            s += f\"| HOST 1 | HOST 2 | HOST 3 |\\n\"\n",
    "            s += f\"|    {array_comp[i][0]}    |    {array_comp[i][1]}    |    {array_comp[i][2]}    |\\n\"\n",
    "    else:\n",
    "        for i in range(5):\n",
    "            s += f\"--STEP {i+1}--\\n\"\n",
    "            if (array_comp[i][3] == 2):\n",
    "                s += \"Actividades en paralelo: (i1,i2)\\n\"\n",
    "            elif (array_comp[i][3] == 1):\n",
    "                s += \"Actividad: i2\\n\"\n",
    "            elif (array_comp[i][3] == 0):\n",
    "                s += \"Actividad: i1\\n\"\n",
    "            else:\n",
    "                s += \"Actividad: i3.\\n\"\n",
    "                s += \"FINAL DE LA SIMULACION\\n\"\n",
    "\n",
    "            s += f\"| HOST 1 | HOST 2 | HOST 3 |\\n\"\n",
    "            s += f\"|    {array_comp[i][0]}    |    {array_comp[i][1]}    |    {array_comp[i][2]}    |\\n\"\n",
    "            \n",
    "        for i in range(tam-5,tam):\n",
    "            if(i == (tam-5)):\n",
    "                s += \".\\n\"\n",
    "                s += \".\\n\"\n",
    "                s += \".\\n\"\n",
    "            s += f\"--STEP {i+1}--\\n\"\n",
    "            if (array_comp[i-1][3] == 2):\n",
    "                s += \"Actividades en paralelo: (i1,i2)\\n\"\n",
    "            elif (array_comp[i-1][3] == 1):\n",
    "                s += \"Actividad: i2\\n\"\n",
    "            elif (array_comp[i-1][3] == 0):\n",
    "                s += \"Actividad: i1\\n\"\n",
    "            else:\n",
    "                s += \"Actividad: i3\\n\"\n",
    "                s += \"FINAL DE LA SIMULACION\\n\"\n",
    "\n",
    "            s += f\"| HOST 1 | HOST 2 | HOST 3 |\\n\"\n",
    "            s += f\"|     {array_comp[i-1][0]}    |     {array_comp[i-1][1]}    |    {array_comp[i-1][2]}    |\\n\"\n",
    "                  \n",
    "    return s"
   ]
  },
  {
   "cell_type": "code",
   "execution_count": 11,
   "id": "5d3c4186-519c-456b-bf99-036db9446354",
   "metadata": {
    "tags": []
   },
   "outputs": [
    {
     "name": "stdout",
     "output_type": "stream",
     "text": [
      "sofparallel suma: 9 steps\n",
      "--STEP 0--\n",
      "nº virus HOST 1: 4\n",
      "nº virus HOST 2: 5\n",
      "Actividades en paralelo: (i1, i2)\n",
      "--STEP 1--\n",
      "Actividades en paralelo: (i1,i2)\n",
      "| HOST 1 | HOST 2 | HOST 3 |\n",
      "|    3    |    4    |    2    |\n",
      "--STEP 2--\n",
      "Actividades en paralelo: (i1,i2)\n",
      "| HOST 1 | HOST 2 | HOST 3 |\n",
      "|    2    |    3    |    4    |\n",
      "--STEP 3--\n",
      "Actividades en paralelo: (i1,i2)\n",
      "| HOST 1 | HOST 2 | HOST 3 |\n",
      "|    1    |    2    |    6    |\n",
      "--STEP 4--\n",
      "Actividades en paralelo: (i1,i2)\n",
      "| HOST 1 | HOST 2 | HOST 3 |\n",
      "|    0    |    1    |    8    |\n",
      "--STEP 5--\n",
      "Actividad: i2\n",
      "| HOST 1 | HOST 2 | HOST 3 |\n",
      "|    0    |    0    |    9    |\n",
      "--STEP 6--\n",
      "Actividad i3.\n",
      "FINAL DE LA SIMULACION\n",
      "| HOST 1 | HOST 2 | HOST 3 |\n",
      "|    0    |    0    |    9    |\n",
      "--STEP 7--\n",
      "Actividad i3.\n",
      "FINAL DE LA SIMULACION\n",
      "| HOST 1 | HOST 2 | HOST 3 |\n",
      "|    0    |    0    |    9    |\n",
      "--STEP 8--\n",
      "Actividad i3.\n",
      "FINAL DE LA SIMULACION\n",
      "| HOST 1 | HOST 2 | HOST 3 |\n",
      "|    0    |    0    |    9    |\n",
      "\n"
     ]
    }
   ],
   "source": [
    "n1 = 4\n",
    "n2 = 5\n",
    "n_steps =9\n",
    "initial_instructions = np.zeros((2,),dtype=np.int64) #i1 e i2 activas, que a su vez apuntan al host1 y host2 (posicion 0 y 1 del array de computacion)\n",
    "array_comp = np.zeros((n_steps,4), dtype=np.int64)\n",
    "array_comp[0,0] = n1\n",
    "array_comp[0,1] = n2\n",
    "\n",
    "array_comp = spsuma(array_comp, initial_instructions)\n",
    "print(solucion_spsuma_cuda(array_comp))"
   ]
  },
  {
   "cell_type": "code",
   "execution_count": null,
   "id": "aee24410-0902-4455-9995-9b9a694b0fce",
   "metadata": {},
   "outputs": [],
   "source": []
  },
  {
   "cell_type": "code",
   "execution_count": null,
   "id": "aa996e34-c926-44da-94d4-a16cde1b925c",
   "metadata": {},
   "outputs": [],
   "source": []
  },
  {
   "cell_type": "code",
   "execution_count": null,
   "id": "d5dee5df-6331-4c47-bddb-368e7001d4dc",
   "metadata": {},
   "outputs": [],
   "source": []
  }
 ],
 "metadata": {
  "kernelspec": {
   "display_name": "Python 3 (ipykernel)",
   "language": "python",
   "name": "python3"
  },
  "language_info": {
   "codemirror_mode": {
    "name": "ipython",
    "version": 3
   },
   "file_extension": ".py",
   "mimetype": "text/x-python",
   "name": "python",
   "nbconvert_exporter": "python",
   "pygments_lexer": "ipython3",
   "version": "3.9.16"
  }
 },
 "nbformat": 4,
 "nbformat_minor": 5
}
