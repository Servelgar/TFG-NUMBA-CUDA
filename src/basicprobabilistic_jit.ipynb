{
 "cells": [
  {
   "cell_type": "markdown",
   "id": "e693a3de-153d-4086-89e9-a0fc1e7cac97",
   "metadata": {
    "tags": []
   },
   "source": [
    "# basicprobabilistic CPU - JIT"
   ]
  },
  {
   "cell_type": "code",
   "execution_count": 3,
   "id": "7134dfc1-7cfe-4c3b-9326-7e4215f27a26",
   "metadata": {
    "tags": []
   },
   "outputs": [
    {
     "name": "stdout",
     "output_type": "stream",
     "text": [
      "['/home/servelgar/tfg-cuda/src', '/usr/lib64/python39.zip', '/usr/lib64/python3.9', '/usr/lib64/python3.9/lib-dynload', '', '/home/servelgar/.local/lib/python3.9/site-packages', '/usr/local/lib64/python3.9/site-packages', '/usr/local/lib/python3.9/site-packages', '/usr/lib64/python3.9/site-packages', '/usr/lib/python3.9/site-packages', '/home/servelgar/tfg-cuda/vm/examples', '/home/servelgar/tfg-cuda/vm/src', '/home/servelgar/tfg-cuda/vm/tests', '/home/servelgar/tfg-cuda/vm/examples', '/home/servelgar/tfg-cuda/vm/src', '/home/servelgar/tfg-cuda/vm/tests']\n"
     ]
    }
   ],
   "source": [
    "import math\n",
    "import random\n",
    "from numba import cuda,jit,njit\n",
    "import numpy as np\n",
    "from numba.cuda.random import create_xoroshiro128p_states, xoroshiro128p_uniform_float32\n",
    "import time\n",
    "import matplotlib.pyplot as plt   \n",
    "import sys\n",
    "import os\n",
    "sys.path.append(\"/home/servelgar/tfg-cuda/vm/examples\")\n",
    "sys.path.append(\"/home/servelgar/tfg-cuda/vm/src\")\n",
    "sys.path.append(\"/home/servelgar/tfg-cuda/vm/tests\")\n",
    "print(sys.path)\n",
    "from basicprobabilistic import basicprobabilistic\n",
    "from spsuma import spsuma\n"
   ]
  },
  {
   "cell_type": "code",
   "execution_count": 4,
   "id": "7108e428-5198-4ea8-bd0d-8b9a168d50bc",
   "metadata": {
    "tags": []
   },
   "outputs": [],
   "source": [
    "@njit\n",
    "def cpu_simulaciones(n,p,array_sims):\n",
    "    \n",
    "    cdf = np.array([p,(p+(1-p))])\n",
    "    \n",
    "    for i in range(array_sims.shape[0]):\n",
    "        for j in range(n):\n",
    "            array_sims[i][0] -= 1\n",
    "            rnd = random.random()\n",
    "            index = 0\n",
    "            while rnd > cdf[index]:\n",
    "                index += 1\n",
    "            array_sims[i][index+1] += 1\n",
    "    \n",
    "    return array_sims\n"
   ]
  },
  {
   "cell_type": "code",
   "execution_count": 5,
   "id": "0ef56276-af16-40a7-823b-83540a79c89e",
   "metadata": {
    "tags": []
   },
   "outputs": [],
   "source": [
    "@njit\n",
    "def cpu_simulaciones(n,p,array_sims):\n",
    "    \n",
    "    cdf = np.array([p,(p+(1-p))])\n",
    "    \n",
    "    for i in range(array_sims.shape[0]):\n",
    "        for j in range(n):\n",
    "            array_sims[i][0] -= 1\n",
    "            rnd = random.random()\n",
    "            index = 0\n",
    "            while rnd > cdf[index]:\n",
    "                index += 1\n",
    "            array_sims[i][index+1] += 1\n",
    "    \n",
    "    return array_sims\n"
   ]
  },
  {
   "cell_type": "code",
   "execution_count": 10,
   "id": "f79ddeda-ce87-463d-a0ad-aaea77358c9d",
   "metadata": {
    "tags": []
   },
   "outputs": [],
   "source": [
    "def solucion_basicprobabilistic_sims(array_sims):\n",
    "    tam = array_sims.shape[0]\n",
    "    s = f\"basicprobabilistic: {tam} simulaciones\\n\"\n",
    "    s += f\"nº virus: {n}\\n\"\n",
    "    s += f\"probabilidad de pasar a host2: {p*100} %\\n\"\n",
    "    s += f\"probabilidad de pasar a host3: {(1-p)*100} %\\n\"\n",
    "    s += \"----------------------------------------\\n\"\n",
    "    if (tam <= 10):\n",
    "        for i in range(array_sims.shape[0]):\n",
    "            s += f\"Simulación: {i+1}\\n\"\n",
    "            s += \"HOST 1 | HOST 2 | HOST 3\\n\"\n",
    "            s += f\"{array_sims[i][0]} | {array_sims[i][1]} | {array_sims[i][2]}\\n\"\n",
    "            s += \"++++++++++++++++++++++++++++++++++\\n\"\n",
    "    else:\n",
    "        tam = 5\n",
    "        for i in range(tam):\n",
    "            s += f\"Simulación: {i+1}\\n\"\n",
    "            s += \"HOST 1 | HOST 2 | HOST 3\\n\"\n",
    "            s += f\"{array_sims[i][0]} | {array_sims[i][1]} | {array_sims[i][2]}\\n\"\n",
    "            s += \"++++++++++++++++++++++++++++++++++\\n\"\n",
    "        for i in range(tam,0,-1):\n",
    "            if i == tam:\n",
    "                s += \".\\n\"\n",
    "                s += \".\\n\"\n",
    "                s += \".\\n\"\n",
    "            s += f\"Simulación: {array_sims.shape[0]-i + 1}\\n\"\n",
    "            s += \"HOST 1 | HOST 2 | HOST 3\\n\"\n",
    "            s += f\"{array_sims[array_sims.shape[0]-i-1][0]} | {array_sims[array_sims.shape[0]-i-1][1]} | {array_sims[array_sims.shape[0]-i-1][2]}\\n\"\n",
    "            s += \"++++++++++++++++++++++++++++++++++\\n\"\n",
    "    return s"
   ]
  },
  {
   "cell_type": "code",
   "execution_count": 11,
   "id": "adc918a5-5aa3-43ab-85cd-bb704246fc69",
   "metadata": {
    "tags": []
   },
   "outputs": [],
   "source": [
    "def solucion_basicprobabilistic_medias(array_media):\n",
    "    tam = array_media.shape[0]\n",
    "    s = f\"basicprobabilistic: {tam} simulaciones\\n\"\n",
    "    s += \"probabilidad acumulada entre simulaciones\\n\"\n",
    "    s += \"probabilidad teórica: \\n\"\n",
    "    s += f\"host2: {p*100} % | host3: {(1-p)*100} %\\n\"\n",
    "    s += \"----------------------------------------\\n\"\n",
    "    if(tam <= 10):\n",
    "        for i in range(array_media.shape[0]):\n",
    "            s += f\"Simulación: {i+1}\\n\"\n",
    "            s += \"PROB. ACUM. HOST 2 | PROB. ACUM. HOST 3\\n\"\n",
    "            s += f\"  {array_media[i][0]*100} % |     {array_media[i][1]*100} %\\n\"\n",
    "            s += \"++++++++++++++++++++++++++++++++++\\n\"\n",
    "    else:\n",
    "        tam = 5\n",
    "        for i in range(tam):\n",
    "            s += f\"Simulación: {i+1}\\n\"\n",
    "            s += \"PROB. ACUM. HOST 2 | PROB. ACUM. HOST 3\\n\"\n",
    "            s += f\"  {array_media[i][0]*100} % |     {array_media[i][1]*100} %\\n\"\n",
    "            s += \"++++++++++++++++++++++++++++++++++\\n\"\n",
    "        for i in range(tam,0,-1):\n",
    "            if i == tam:\n",
    "                s += \".\\n\"\n",
    "                s += \".\\n\"\n",
    "                s += \".\\n\"\n",
    "            s += f\"Simulación: {array_media.shape[0] - i + 1}\\n\"\n",
    "            s += \"PROB. ACUM. HOST 2 | PROB. ACUM. HOST 3\\n\"\n",
    "            s += f\"    {array_media[array_media.shape[0]-i-1][0]*100} % |     {array_media[array_media.shape[0]-i-1][1]*100} %\\n\"\n",
    "            s += \"++++++++++++++++++++++++++++++++++\\n\"\n",
    "    return s"
   ]
  },
  {
   "cell_type": "code",
   "execution_count": 13,
   "id": "456acd01-f2ab-4d48-b91e-a29ad4da2217",
   "metadata": {
    "tags": []
   },
   "outputs": [],
   "source": [
    "n_sims = 100  # numero de computaciones de maquinas virus\n",
    "\n",
    "n = 1000  #número de virus\n",
    "p = 0.5  #probabilidad\n",
    "array_sims = np.zeros((n_sims,3), dtype=np.float64)\n",
    "array_sims[:,0] = n"
   ]
  },
  {
   "cell_type": "code",
   "execution_count": 14,
   "id": "68578623-97a9-4437-aeea-503981a94db9",
   "metadata": {
    "tags": []
   },
   "outputs": [],
   "source": [
    "array_medias = cpu_simulaciones(n,p,array_sims)"
   ]
  },
  {
   "cell_type": "code",
   "execution_count": 15,
   "id": "6ffaae8f-cbc0-47eb-b6c3-fcab6a0a0f8d",
   "metadata": {
    "tags": []
   },
   "outputs": [
    {
     "name": "stdout",
     "output_type": "stream",
     "text": [
      "basicprobabilistic: 100 simulaciones\n",
      "nº virus: 1000\n",
      "probabilidad de pasar a host2: 50.0 %\n",
      "probabilidad de pasar a host3: 50.0 %\n",
      "----------------------------------------\n",
      "Simulación: 1\n",
      "HOST 1 | HOST 2 | HOST 3\n",
      "0.0 | 504.0 | 496.0\n",
      "++++++++++++++++++++++++++++++++++\n",
      "Simulación: 2\n",
      "HOST 1 | HOST 2 | HOST 3\n",
      "0.0 | 494.0 | 506.0\n",
      "++++++++++++++++++++++++++++++++++\n",
      "Simulación: 3\n",
      "HOST 1 | HOST 2 | HOST 3\n",
      "0.0 | 468.0 | 532.0\n",
      "++++++++++++++++++++++++++++++++++\n",
      "Simulación: 4\n",
      "HOST 1 | HOST 2 | HOST 3\n",
      "0.0 | 494.0 | 506.0\n",
      "++++++++++++++++++++++++++++++++++\n",
      "Simulación: 5\n",
      "HOST 1 | HOST 2 | HOST 3\n",
      "0.0 | 523.0 | 477.0\n",
      "++++++++++++++++++++++++++++++++++\n",
      ".\n",
      ".\n",
      ".\n",
      "Simulación: 96\n",
      "HOST 1 | HOST 2 | HOST 3\n",
      "0.0 | 479.0 | 521.0\n",
      "++++++++++++++++++++++++++++++++++\n",
      "Simulación: 97\n",
      "HOST 1 | HOST 2 | HOST 3\n",
      "0.0 | 522.0 | 478.0\n",
      "++++++++++++++++++++++++++++++++++\n",
      "Simulación: 98\n",
      "HOST 1 | HOST 2 | HOST 3\n",
      "0.0 | 525.0 | 475.0\n",
      "++++++++++++++++++++++++++++++++++\n",
      "Simulación: 99\n",
      "HOST 1 | HOST 2 | HOST 3\n",
      "0.0 | 501.0 | 499.0\n",
      "++++++++++++++++++++++++++++++++++\n",
      "Simulación: 100\n",
      "HOST 1 | HOST 2 | HOST 3\n",
      "0.0 | 497.0 | 503.0\n",
      "++++++++++++++++++++++++++++++++++\n",
      "\n"
     ]
    }
   ],
   "source": [
    "print(solucion_basicprobabilistic_sims(array_medias))"
   ]
  },
  {
   "cell_type": "code",
   "execution_count": null,
   "id": "a4b24be0-9c0a-43cf-a5f1-5f85a51061c9",
   "metadata": {},
   "outputs": [],
   "source": []
  }
 ],
 "metadata": {
  "kernelspec": {
   "display_name": "Python 3 (ipykernel)",
   "language": "python",
   "name": "python3"
  },
  "language_info": {
   "codemirror_mode": {
    "name": "ipython",
    "version": 3
   },
   "file_extension": ".py",
   "mimetype": "text/x-python",
   "name": "python",
   "nbconvert_exporter": "python",
   "pygments_lexer": "ipython3",
   "version": "3.9.16"
  }
 },
 "nbformat": 4,
 "nbformat_minor": 5
}
