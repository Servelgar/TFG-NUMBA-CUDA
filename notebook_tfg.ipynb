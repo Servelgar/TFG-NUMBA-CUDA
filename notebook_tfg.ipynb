{
 "cells": [
  {
   "cell_type": "markdown",
   "id": "afcef49f-d440-4e04-bf3f-78375dc24eb1",
   "metadata": {},
   "source": [
    "# Simulador virus machine"
   ]
  },
  {
   "cell_type": "markdown",
   "id": "02d69a78-358b-4810-bf75-2620a3867675",
   "metadata": {},
   "source": [
    "#### En este notebook se representa algunas versiones del simulador con algunas pruebas y tiempos. \n",
    "#### Cada modelo está escrito en su respectivo notebook en /src/"
   ]
  },
  {
   "cell_type": "code",
   "execution_count": 1,
   "id": "b1f4276f-12ef-47cd-9e5b-52ddba9793b9",
   "metadata": {
    "tags": []
   },
   "outputs": [
    {
     "name": "stderr",
     "output_type": "stream",
     "text": [
      "/home/servelgar/.local/lib/python3.9/site-packages/numba/cuda/random.py:45: NumbaDeprecationWarning: The 'nopython' keyword argument was not supplied to the 'numba.jit' decorator. The implicit default value for this argument is currently False, but it will be changed to True in Numba 0.59.0. See https://numba.readthedocs.io/en/stable/reference/deprecation.html#deprecation-of-object-mode-fall-back-behaviour-when-using-jit for details.\n",
      "  @jit(forceobj=_forceobj, looplift=_looplift)\n",
      "/home/servelgar/.local/lib/python3.9/site-packages/numba/cuda/random.py:71: NumbaDeprecationWarning: The 'nopython' keyword argument was not supplied to the 'numba.jit' decorator. The implicit default value for this argument is currently False, but it will be changed to True in Numba 0.59.0. See https://numba.readthedocs.io/en/stable/reference/deprecation.html#deprecation-of-object-mode-fall-back-behaviour-when-using-jit for details.\n",
      "  @jit(forceobj=_forceobj, looplift=_looplift)\n",
      "/home/servelgar/.local/lib/python3.9/site-packages/numba/cuda/random.py:79: NumbaDeprecationWarning: The 'nopython' keyword argument was not supplied to the 'numba.jit' decorator. The implicit default value for this argument is currently False, but it will be changed to True in Numba 0.59.0. See https://numba.readthedocs.io/en/stable/reference/deprecation.html#deprecation-of-object-mode-fall-back-behaviour-when-using-jit for details.\n",
      "  @jit(forceobj=_forceobj, looplift=_looplift)\n",
      "/home/servelgar/.local/lib/python3.9/site-packages/numba/cuda/random.py:101: NumbaDeprecationWarning: The 'nopython' keyword argument was not supplied to the 'numba.jit' decorator. The implicit default value for this argument is currently False, but it will be changed to True in Numba 0.59.0. See https://numba.readthedocs.io/en/stable/reference/deprecation.html#deprecation-of-object-mode-fall-back-behaviour-when-using-jit for details.\n",
      "  @jit(forceobj=_forceobj, looplift=_looplift)\n",
      "/home/servelgar/.local/lib/python3.9/site-packages/numba/cuda/random.py:128: NumbaDeprecationWarning: The 'nopython' keyword argument was not supplied to the 'numba.jit' decorator. The implicit default value for this argument is currently False, but it will be changed to True in Numba 0.59.0. See https://numba.readthedocs.io/en/stable/reference/deprecation.html#deprecation-of-object-mode-fall-back-behaviour-when-using-jit for details.\n",
      "  @jit(forceobj=_forceobj, looplift=_looplift)\n",
      "/home/servelgar/.local/lib/python3.9/site-packages/numba/cuda/random.py:135: NumbaDeprecationWarning: The 'nopython' keyword argument was not supplied to the 'numba.jit' decorator. The implicit default value for this argument is currently False, but it will be changed to True in Numba 0.59.0. See https://numba.readthedocs.io/en/stable/reference/deprecation.html#deprecation-of-object-mode-fall-back-behaviour-when-using-jit for details.\n",
      "  @jit(forceobj=_forceobj, looplift=_looplift)\n",
      "/home/servelgar/.local/lib/python3.9/site-packages/numba/cuda/random.py:142: NumbaDeprecationWarning: The 'nopython' keyword argument was not supplied to the 'numba.jit' decorator. The implicit default value for this argument is currently False, but it will be changed to True in Numba 0.59.0. See https://numba.readthedocs.io/en/stable/reference/deprecation.html#deprecation-of-object-mode-fall-back-behaviour-when-using-jit for details.\n",
      "  @jit(forceobj=_forceobj, looplift=_looplift)\n",
      "/home/servelgar/.local/lib/python3.9/site-packages/numba/cuda/random.py:156: NumbaDeprecationWarning: The 'nopython' keyword argument was not supplied to the 'numba.jit' decorator. The implicit default value for this argument is currently False, but it will be changed to True in Numba 0.59.0. See https://numba.readthedocs.io/en/stable/reference/deprecation.html#deprecation-of-object-mode-fall-back-behaviour-when-using-jit for details.\n",
      "  @jit(forceobj=_forceobj, looplift=_looplift)\n",
      "/home/servelgar/.local/lib/python3.9/site-packages/numba/cuda/random.py:174: NumbaDeprecationWarning: The 'nopython' keyword argument was not supplied to the 'numba.jit' decorator. The implicit default value for this argument is currently False, but it will be changed to True in Numba 0.59.0. See https://numba.readthedocs.io/en/stable/reference/deprecation.html#deprecation-of-object-mode-fall-back-behaviour-when-using-jit for details.\n",
      "  @jit(forceobj=_forceobj, looplift=_looplift)\n",
      "/home/servelgar/.local/lib/python3.9/site-packages/numba/cuda/random.py:199: NumbaDeprecationWarning: The 'nopython' keyword argument was not supplied to the 'numba.jit' decorator. The implicit default value for this argument is currently False, but it will be changed to True in Numba 0.59.0. See https://numba.readthedocs.io/en/stable/reference/deprecation.html#deprecation-of-object-mode-fall-back-behaviour-when-using-jit for details.\n",
      "  @jit(forceobj=_forceobj, looplift=_looplift)\n",
      "/home/servelgar/.local/lib/python3.9/site-packages/numba/cuda/random.py:224: NumbaDeprecationWarning: The 'nopython' keyword argument was not supplied to the 'numba.jit' decorator. The implicit default value for this argument is currently False, but it will be changed to True in Numba 0.59.0. See https://numba.readthedocs.io/en/stable/reference/deprecation.html#deprecation-of-object-mode-fall-back-behaviour-when-using-jit for details.\n",
      "  @jit(forceobj=_forceobj, looplift=_looplift)\n"
     ]
    },
    {
     "name": "stdout",
     "output_type": "stream",
     "text": [
      "['/home/servelgar/tfg-cuda', '/usr/lib64/python39.zip', '/usr/lib64/python3.9', '/usr/lib64/python3.9/lib-dynload', '', '/home/servelgar/.local/lib/python3.9/site-packages', '/usr/local/lib64/python3.9/site-packages', '/usr/local/lib/python3.9/site-packages', '/usr/lib64/python3.9/site-packages', '/usr/lib/python3.9/site-packages', '/home/servelgar/tfg-cuda/vm/examples', '/home/servelgar/tfg-cuda/vm/src', '/home/servelgar/tfg-cuda/vm/tests']\n"
     ]
    }
   ],
   "source": [
    "import math\n",
    "import random\n",
    "from numba import cuda,jit,njit\n",
    "import numpy as np\n",
    "from numba.cuda.random import create_xoroshiro128p_states, xoroshiro128p_uniform_float32\n",
    "import time\n",
    "import matplotlib.pyplot as plt   \n",
    "import sys\n",
    "import os\n",
    "sys.path.append(\"/home/servelgar/tfg-cuda/vm/examples\")\n",
    "sys.path.append(\"/home/servelgar/tfg-cuda/vm/src\")\n",
    "sys.path.append(\"/home/servelgar/tfg-cuda/vm/tests\")\n",
    "print(sys.path)\n",
    "from basicprobabilistic import basicprobabilistic\n",
    "from spsuma import spsuma\n"
   ]
  },
  {
   "cell_type": "code",
   "execution_count": null,
   "id": "d993c545-1de7-490f-b7a0-cad352d5a7e9",
   "metadata": {},
   "outputs": [],
   "source": []
  },
  {
   "cell_type": "code",
   "execution_count": null,
   "id": "c1441d5b-caed-4fb2-b4bb-ab2cfc0cc267",
   "metadata": {
    "tags": []
   },
   "outputs": [],
   "source": [
    "\n"
   ]
  },
  {
   "cell_type": "markdown",
   "id": "ecf173ba-cf17-47dc-9d98-d308b78de799",
   "metadata": {},
   "source": [
    "# basicprobabilistic CPU - JIT"
   ]
  },
  {
   "cell_type": "code",
   "execution_count": 2,
   "id": "3fcf792d-d681-4cc5-8bf3-0de45e9190f9",
   "metadata": {
    "tags": []
   },
   "outputs": [],
   "source": [
    "@njit\n",
    "def cpu_simulaciones(n,p,array_sims):\n",
    "    \n",
    "    cdf = np.array([p,(p+(1-p))])\n",
    "    \n",
    "    for i in range(array_sims.shape[0]):\n",
    "        for j in range(n):\n",
    "            array_sims[i][0] -= 1\n",
    "            rnd = random.random()\n",
    "            index = 0\n",
    "            while rnd > cdf[index]:\n",
    "                index += 1\n",
    "            array_sims[i][index+1] += 1\n",
    "    \n",
    "    return array_sims\n",
    "\n"
   ]
  },
  {
   "cell_type": "code",
   "execution_count": 3,
   "id": "c55f5aca-e7d2-4d50-87d0-cdfecea8c6e2",
   "metadata": {
    "tags": []
   },
   "outputs": [],
   "source": [
    "@njit\n",
    "def probabilistic_acum(array_sims,n):\n",
    "    array_media = np.zeros((n_sims,2), dtype = np.float64)\n",
    "    \n",
    "    for j in range(1,array_sims.shape[1]):\n",
    "        tmp = 0\n",
    "        for i in range(array_sims.shape[0]):\n",
    "            tmp += array_sims[i][j]\n",
    "            media = tmp / ((i+1)*n)\n",
    "            array_media[i][j-1] = media\n",
    "    \n",
    "    return array_media"
   ]
  },
  {
   "cell_type": "code",
   "execution_count": 5,
   "id": "5316c4b1-0724-4f8b-8261-f0cdd9a9a363",
   "metadata": {
    "tags": []
   },
   "outputs": [],
   "source": [
    "n_sims = 10000  # numero de computaciones de maquinas virus\n",
    "\n",
    "n = 10000  #número de virus\n",
    "p = 0.5  #probabilidad\n",
    "\n",
    "array_sims = np.zeros((n_sims,3), dtype=np.float64)\n",
    "array_sims[:,0] = n"
   ]
  },
  {
   "cell_type": "code",
   "execution_count": 7,
   "id": "e8ec1432-510c-4ad8-b7da-1eeb54c72b6e",
   "metadata": {
    "tags": []
   },
   "outputs": [],
   "source": [
    "n_sims = 100  # numero de computaciones de maquinas virus\n",
    "\n",
    "n = 100  #número de virus\n",
    "p = 0.5  #probabilidad\n",
    "array_sims = np.zeros((n_sims,3), dtype=np.float64)\n",
    "array_sims[:,0] = n"
   ]
  },
  {
   "cell_type": "code",
   "execution_count": 44,
   "id": "9b852d78-a9ee-4f03-abaa-18489e43f827",
   "metadata": {
    "tags": []
   },
   "outputs": [
    {
     "data": {
      "image/png": "[encoded data removed]",
      "text/plain": [
       "<Figure size 640x480 with 1 Axes>"
      ]
     },
     "metadata": {},
     "output_type": "display_data"
    }
   ],
   "source": [
    "x = np.linspace(0,n_sims,n_sims)\n",
    "y1 = array_media[:,0]\n",
    "y2 = array_media[:,1]\n",
    "\n",
    "plt.plot(x,y1, label='host2')\n",
    "plt.plot(x,y2, label='host3')\n",
    "\n",
    "\n",
    "plt.title(\"Simulaciones virus machine. Secuencial JIT\")\n",
    "plt.xlabel(\"simulaciones\")\n",
    "plt.ylabel(\"probabilidad\")\n",
    "plt.legend()\n",
    "\n",
    "plt.show()"
   ]
  },
  {
   "cell_type": "code",
   "execution_count": 8,
   "id": "a38bf6a0-c92f-497b-9257-3699c533c7cc",
   "metadata": {
    "tags": []
   },
   "outputs": [
    {
     "name": "stdout",
     "output_type": "stream",
     "text": [
      "[0.4985 0.5015]\n"
     ]
    }
   ],
   "source": [
    "array_medias = cpu_simulaciones(n,p,array_sims)\n",
    "a = probabilistic_acum(array_sims,n)\n",
    "print(a[len(a)-1])"
   ]
  },
  {
   "cell_type": "code",
   "execution_count": 6,
   "id": "9f486a7e-bb7b-46c6-bb05-e3d057c38a7f",
   "metadata": {
    "tags": []
   },
   "outputs": [
    {
     "name": "stdout",
     "output_type": "stream",
     "text": [
      "951 ms ± 589 µs per loop (mean ± std. dev. of 7 runs, 1 loop each)\n"
     ]
    }
   ],
   "source": [
    "%timeit cpu_simulaciones(n,p,array_sims)"
   ]
  },
  {
   "cell_type": "code",
   "execution_count": 8,
   "id": "b2bb49ed-860a-4710-95a4-be1f2d972fbb",
   "metadata": {
    "tags": []
   },
   "outputs": [
    {
     "name": "stdout",
     "output_type": "stream",
     "text": [
      "239 µs ± 653 ns per loop (mean ± std. dev. of 7 runs, 1,000 loops each)\n"
     ]
    }
   ],
   "source": [
    "%timeit probabilistic_acum(array_sims,n)"
   ]
  },
  {
   "cell_type": "markdown",
   "id": "57970ab3-594e-4687-9463-79e1e501f7c7",
   "metadata": {},
   "source": [
    "# basicprobabilistic CPU - sin JIT"
   ]
  },
  {
   "cell_type": "code",
   "execution_count": 18,
   "id": "2542f0d7-74f6-4690-b3fb-c09476c0547f",
   "metadata": {
    "tags": []
   },
   "outputs": [],
   "source": [
    "n_sims = 10000  # numero de computaciones de maquinas virus\n",
    "\n",
    "n = 10000  #número de virus\n",
    "p = 0.5  #probabilidad"
   ]
  },
  {
   "cell_type": "code",
   "execution_count": 19,
   "id": "0a2222fc-a7b1-4fb4-9c6f-860514c372c4",
   "metadata": {
    "tags": []
   },
   "outputs": [],
   "source": [
    "def cpu_simulaciones_sinJIT(n_sims, n, p):\n",
    "    i = 0\n",
    "    vm = basicprobabilistic(n, p)\n",
    "    l_prob = [[0,0]]\n",
    "    while i < n_sims:\n",
    "        (uh, lista_compute) = vm.compute()\n",
    "        p1 = lista_compute[1] \n",
    "        p2 = lista_compute[2] \n",
    "        l_prob.append([p1, p2])\n",
    "        i += 1\n",
    "        vm.restart()\n",
    "    l_prob.pop(0)\n",
    "    return l_prob"
   ]
  },
  {
   "cell_type": "code",
   "execution_count": 4,
   "id": "8d402d30-2f46-49a5-87f9-acc72bfe5eb8",
   "metadata": {
    "tags": []
   },
   "outputs": [],
   "source": [
    "def cpu_probabilidades(l_prob):\n",
    "    acum1 = 0\n",
    "    acum2 = 0\n",
    "    l_res = []\n",
    "    for i in range(len(l_prob)):\n",
    "        acum1 += l_prob[i][0]\n",
    "        acum2 += l_prob[i][1]\n",
    "        media1 = acum1 / ((i+1)*n)\n",
    "        media2 = acum2 / ((i+1)*n)\n",
    "        l_res.append([media1,media2])\n",
    "    return l_res"
   ]
  },
  {
   "cell_type": "code",
   "execution_count": 16,
   "id": "06603896-fa67-4522-bb11-fe5cf2cda1a7",
   "metadata": {
    "tags": []
   },
   "outputs": [
    {
     "data": {
      "image/png": "[encoded data removed]",
      "text/plain": [
       "<Figure size 640x480 with 1 Axes>"
      ]
     },
     "metadata": {},
     "output_type": "display_data"
    }
   ],
   "source": [
    "l_prob = cpu_simulaciones_sinJIT(n_sims, n, p)\n",
    "prob_acum = cpu_probabilidades(l_prob)\n",
    "x = np.linspace(0,n_sims,n_sims)\n",
    "y1 = [compression[0] for compression in prob_acum[0:]]\n",
    "y2 = [compression[1] for compression in prob_acum[0:]]\n",
    "\n",
    "plt.plot(x,y1, label='host2')\n",
    "plt.plot(x,y2, label='host3')\n",
    "\n",
    "\n",
    "plt.title(\"Simulaciones virus machine. Secuencial sin JIT\")\n",
    "plt.xlabel(\"simulaciones\")\n",
    "plt.ylabel(\"probabilidad\")\n",
    "plt.legend()\n",
    "\n",
    "plt.show()"
   ]
  },
  {
   "cell_type": "code",
   "execution_count": null,
   "id": "82aaa64d-2002-4a62-a79b-9d08965b220b",
   "metadata": {
    "tags": []
   },
   "outputs": [],
   "source": [
    "\n",
    "%timeit cpu_simulaciones_sinJIT(n_sims,n,p)  \n"
   ]
  },
  {
   "cell_type": "markdown",
   "id": "903352d5-7d45-4e34-b67d-10a72a5fea35",
   "metadata": {},
   "source": [
    "# basicprobabilistic - NUMBA CUDA"
   ]
  },
  {
   "cell_type": "code",
   "execution_count": 4,
   "id": "907ad9e4-b7a3-4561-b1ab-3232d90c1cf5",
   "metadata": {
    "tags": []
   },
   "outputs": [],
   "source": [
    "########## VARIABLES #########\n",
    "n = 1000  # numero de viruses\n",
    "n_sim = 100  # numero de simulaciones\n",
    "p = 0.5 # prob\n",
    "\n",
    "####### Preparar las simulaciones ######\n",
    "array_sims = np.zeros((n_sim,3), dtype=np.float64)\n",
    "array_sims[:,0] = n\n",
    "#array_media = np.zeros((n_sim,2), dtype = np.float64)"
   ]
  },
  {
   "cell_type": "code",
   "execution_count": 5,
   "id": "ca088bb7-0f1d-4521-9706-50a374914262",
   "metadata": {
    "tags": []
   },
   "outputs": [],
   "source": [
    "@cuda.jit\n",
    "def kernel_compute(array_sims,p, rng_state, n):\n",
    "    x = cuda.threadIdx.x\n",
    "\n",
    "    columna = cuda.blockDim.x * cuda.blockIdx.x + x\n",
    "\n",
    "    cdf = cuda.local.array(shape=2, dtype=np.float64)\n",
    "    cdf[0] = p\n",
    "    cdf[1] = p + (1-p)\n",
    "    \n",
    "    # COMPUTE\n",
    "    if columna < array_sims.shape[0]:\n",
    "        for i in range(n):\n",
    "            cuda.atomic.add(array_sims, (columna, 0), -1.0)\n",
    "            #rnd = array_random[columna][i]\n",
    "            rnd = xoroshiro128p_uniform_float32(rng_state, columna)\n",
    "            index = 0\n",
    "            while rnd > cdf[index]:\n",
    "                index += 1\n",
    "            cuda.atomic.add(array_sims, (columna, index+1), 1.0)\n",
    "    \n",
    "    cuda.syncthreads()"
   ]
  },
  {
   "cell_type": "code",
   "execution_count": 6,
   "id": "c9b3f4bd-5a72-4962-a134-94ab8528ed20",
   "metadata": {
    "tags": []
   },
   "outputs": [],
   "source": [
    "@njit\n",
    "def probabilistic_acum(array_sims,n):\n",
    "    array_media = np.zeros((n_sim,2), dtype = np.float64)\n",
    "    \n",
    "    for j in range(1,array_sims.shape[1]):\n",
    "        tmp = 0\n",
    "        for i in range(array_sims.shape[0]):\n",
    "            tmp += array_sims[i][j]\n",
    "            media = tmp / ((i+1)*n)\n",
    "            array_media[i][j-1] = media\n",
    "    \n",
    "    return array_media"
   ]
  },
  {
   "cell_type": "code",
   "execution_count": 7,
   "id": "c8bdd7a9-5abc-4af4-8ddd-89f49a26d728",
   "metadata": {
    "tags": []
   },
   "outputs": [],
   "source": [
    "def solucion_basicprobabilistic_sims(array_sims):\n",
    "    tam = array_sims.shape[0]\n",
    "    s = f\"basicprobabilistic: {tam} simulaciones\\n\"\n",
    "    s += f\"nº virus: {n}\\n\"\n",
    "    s += f\"probabilidad de pasar a host2: {p*100} %\\n\"\n",
    "    s += f\"probabilidad de pasar a host3: {(1-p)*100} %\\n\"\n",
    "    s += \"----------------------------------------\\n\"\n",
    "    if (tam <= 10):\n",
    "        for i in range(array_sims.shape[0]):\n",
    "            s += f\"Simulación: {i+1}\\n\"\n",
    "            s += \"HOST 1 | HOST 2 | HOST 3\\n\"\n",
    "            s += f\"{array_sims[i][0]} | {array_sims[i][1]} | {array_sims[i][2]}\\n\"\n",
    "            s += \"++++++++++++++++++++++++++++++++++\\n\"\n",
    "    else:\n",
    "        tam = 5\n",
    "        for i in range(tam):\n",
    "            s += f\"Simulación: {i+1}\\n\"\n",
    "            s += \"HOST 1 | HOST 2 | HOST 3\\n\"\n",
    "            s += f\"{array_sims[i][0]} | {array_sims[i][1]} | {array_sims[i][2]}\\n\"\n",
    "            s += \"++++++++++++++++++++++++++++++++++\\n\"\n",
    "        for i in range(tam,0,-1):\n",
    "            if i == tam:\n",
    "                s += \".\\n\"\n",
    "                s += \".\\n\"\n",
    "                s += \".\\n\"\n",
    "            s += f\"Simulación: {array_sims.shape[0]-i + 1}\\n\"\n",
    "            s += \"HOST 1 | HOST 2 | HOST 3\\n\"\n",
    "            s += f\"{array_sims[array_sims.shape[0]-i-1][0]} | {array_sims[array_sims.shape[0]-i-1][1]} | {array_sims[array_sims.shape[0]-i-1][2]}\\n\"\n",
    "            s += \"++++++++++++++++++++++++++++++++++\\n\"\n",
    "    return s"
   ]
  },
  {
   "cell_type": "code",
   "execution_count": 8,
   "id": "36d000b3-6fd3-4a5a-8412-c61dfce3a240",
   "metadata": {
    "tags": []
   },
   "outputs": [],
   "source": [
    "def solucion_basicprobabilistic_medias(array_media):\n",
    "    tam = array_media.shape[0]\n",
    "    s = f\"basicprobabilistic: {tam} simulaciones\\n\"\n",
    "    s += \"probabilidad acumulada entre simulaciones\\n\"\n",
    "    s += \"probabilidad teórica: \\n\"\n",
    "    s += f\"host2: {p*100} % | host3: {(1-p)*100} %\\n\"\n",
    "    s += \"----------------------------------------\\n\"\n",
    "    if(tam <= 10):\n",
    "        for i in range(array_media.shape[0]):\n",
    "            s += f\"Simulación: {i+1}\\n\"\n",
    "            s += \"PROB. ACUM. HOST 2 | PROB. ACUM. HOST 3\\n\"\n",
    "            s += f\"  {array_media[i][0]*100} % |     {array_media[i][1]*100} %\\n\"\n",
    "            s += \"++++++++++++++++++++++++++++++++++\\n\"\n",
    "    else:\n",
    "        tam = 5\n",
    "        for i in range(tam):\n",
    "            s += f\"Simulación: {i+1}\\n\"\n",
    "            s += \"PROB. ACUM. HOST 2 | PROB. ACUM. HOST 3\\n\"\n",
    "            s += f\"  {array_media[i][0]*100} % |     {array_media[i][1]*100} %\\n\"\n",
    "            s += \"++++++++++++++++++++++++++++++++++\\n\"\n",
    "        for i in range(tam,0,-1):\n",
    "            if i == tam:\n",
    "                s += \".\\n\"\n",
    "                s += \".\\n\"\n",
    "                s += \".\\n\"\n",
    "            s += f\"Simulación: {array_media.shape[0] - i + 1}\\n\"\n",
    "            s += \"PROB. ACUM. HOST 2 | PROB. ACUM. HOST 3\\n\"\n",
    "            s += f\"    {array_media[array_media.shape[0]-i-1][0]*100} % |     {array_media[array_media.shape[0]-i-1][1]*100} %\\n\"\n",
    "            s += \"++++++++++++++++++++++++++++++++++\\n\"\n",
    "    return s"
   ]
  },
  {
   "cell_type": "code",
   "execution_count": 9,
   "id": "92bdf88d-4ae5-4eda-8df3-2aa0313743b4",
   "metadata": {
    "tags": []
   },
   "outputs": [
    {
     "name": "stderr",
     "output_type": "stream",
     "text": [
      "/home/servelgar/.local/lib/python3.9/site-packages/numba/cuda/dispatcher.py:539: NumbaPerformanceWarning: Grid size 1 will likely result in GPU under-utilization due to low occupancy.\n",
      "  warn(NumbaPerformanceWarning(msg))\n"
     ]
    }
   ],
   "source": [
    "############ INICIALIZACION DE HILOS, ETC #################\n",
    "cuda.select_device(0)\n",
    "threads_per_block = 1024\n",
    "#blocks_per_grid1 = ((n_sim + (threads_per_block - 1)) // threads_per_block, (n + threads_per_block -1) // threads_per_block)\n",
    "blocks_per_grid2 = ((n_sim + (threads_per_block - 1)) // threads_per_block, (3 + threads_per_block -1) // threads_per_block)\n",
    "rng_states = create_xoroshiro128p_states(threads_per_block * blocks_per_grid2[0], seed=time.time())\n",
    "\n",
    "################### LAUNCH Y PRINT #####################\n",
    "d_array_sims = cuda.to_device(array_sims)\n",
    "\n",
    "kernel_compute[blocks_per_grid2, threads_per_block](d_array_sims,p, rng_states, n)\n",
    "cuda.synchronize()\n",
    "array_sims = d_array_sims.copy_to_host()\n",
    "\n",
    "array_media = probabilistic_acum(array_sims,n)\n",
    "\n",
    "#print(array_sims)\n",
    "#print(\"#####################################\")\n",
    "#print(\"#####################################\")\n",
    "#print(array_media)"
   ]
  },
  {
   "cell_type": "code",
   "execution_count": 10,
   "id": "e8532703-8d46-4f4f-9ddc-6e25061a56b8",
   "metadata": {
    "tags": []
   },
   "outputs": [
    {
     "name": "stdout",
     "output_type": "stream",
     "text": [
      "basicprobabilistic: 100 simulaciones\n",
      "nº virus: 1000\n",
      "probabilidad de pasar a host2: 50.0 %\n",
      "probabilidad de pasar a host3: 50.0 %\n",
      "----------------------------------------\n",
      "Simulación: 1\n",
      "HOST 1 | HOST 2 | HOST 3\n",
      "0.0 | 510.0 | 490.0\n",
      "++++++++++++++++++++++++++++++++++\n",
      "Simulación: 2\n",
      "HOST 1 | HOST 2 | HOST 3\n",
      "0.0 | 498.0 | 502.0\n",
      "++++++++++++++++++++++++++++++++++\n",
      "Simulación: 3\n",
      "HOST 1 | HOST 2 | HOST 3\n",
      "0.0 | 523.0 | 477.0\n",
      "++++++++++++++++++++++++++++++++++\n",
      "Simulación: 4\n",
      "HOST 1 | HOST 2 | HOST 3\n",
      "0.0 | 486.0 | 514.0\n",
      "++++++++++++++++++++++++++++++++++\n",
      "Simulación: 5\n",
      "HOST 1 | HOST 2 | HOST 3\n",
      "0.0 | 482.0 | 518.0\n",
      "++++++++++++++++++++++++++++++++++\n",
      ".\n",
      ".\n",
      ".\n",
      "Simulación: 96\n",
      "HOST 1 | HOST 2 | HOST 3\n",
      "0.0 | 511.0 | 489.0\n",
      "++++++++++++++++++++++++++++++++++\n",
      "Simulación: 97\n",
      "HOST 1 | HOST 2 | HOST 3\n",
      "0.0 | 512.0 | 488.0\n",
      "++++++++++++++++++++++++++++++++++\n",
      "Simulación: 98\n",
      "HOST 1 | HOST 2 | HOST 3\n",
      "0.0 | 483.0 | 517.0\n",
      "++++++++++++++++++++++++++++++++++\n",
      "Simulación: 99\n",
      "HOST 1 | HOST 2 | HOST 3\n",
      "0.0 | 496.0 | 504.0\n",
      "++++++++++++++++++++++++++++++++++\n",
      "Simulación: 100\n",
      "HOST 1 | HOST 2 | HOST 3\n",
      "0.0 | 499.0 | 501.0\n",
      "++++++++++++++++++++++++++++++++++\n",
      "\n"
     ]
    }
   ],
   "source": [
    "print(solucion_basicprobabilistic_sims(array_sims))"
   ]
  },
  {
   "cell_type": "code",
   "execution_count": 11,
   "id": "ee0f283b-3577-4117-a8b0-7ad5142d5833",
   "metadata": {
    "tags": []
   },
   "outputs": [
    {
     "name": "stdout",
     "output_type": "stream",
     "text": [
      "basicprobabilistic: 100 simulaciones\n",
      "probabilidad acumulada entre simulaciones\n",
      "probabilidad teórica: \n",
      "host2: 50.0 % | host3: 50.0 %\n",
      "----------------------------------------\n",
      "Simulación: 1\n",
      "PROB. ACUM. HOST 2 | PROB. ACUM. HOST 3\n",
      "  51.0 % |     49.0 %\n",
      "++++++++++++++++++++++++++++++++++\n",
      "Simulación: 2\n",
      "PROB. ACUM. HOST 2 | PROB. ACUM. HOST 3\n",
      "  50.4 % |     49.6 %\n",
      "++++++++++++++++++++++++++++++++++\n",
      "Simulación: 3\n",
      "PROB. ACUM. HOST 2 | PROB. ACUM. HOST 3\n",
      "  51.03333333333333 % |     48.96666666666666 %\n",
      "++++++++++++++++++++++++++++++++++\n",
      "Simulación: 4\n",
      "PROB. ACUM. HOST 2 | PROB. ACUM. HOST 3\n",
      "  50.425 % |     49.575 %\n",
      "++++++++++++++++++++++++++++++++++\n",
      "Simulación: 5\n",
      "PROB. ACUM. HOST 2 | PROB. ACUM. HOST 3\n",
      "  49.980000000000004 % |     50.019999999999996 %\n",
      "++++++++++++++++++++++++++++++++++\n",
      ".\n",
      ".\n",
      ".\n",
      "Simulación: 96\n",
      "PROB. ACUM. HOST 2 | PROB. ACUM. HOST 3\n",
      "    50.06315789473684 % |     49.93684210526316 %\n",
      "++++++++++++++++++++++++++++++++++\n",
      "Simulación: 97\n",
      "PROB. ACUM. HOST 2 | PROB. ACUM. HOST 3\n",
      "    50.075 % |     49.925000000000004 %\n",
      "++++++++++++++++++++++++++++++++++\n",
      "Simulación: 98\n",
      "PROB. ACUM. HOST 2 | PROB. ACUM. HOST 3\n",
      "    50.05670103092783 % |     49.94329896907217 %\n",
      "++++++++++++++++++++++++++++++++++\n",
      "Simulación: 99\n",
      "PROB. ACUM. HOST 2 | PROB. ACUM. HOST 3\n",
      "    50.052040816326524 % |     49.94795918367347 %\n",
      "++++++++++++++++++++++++++++++++++\n",
      "Simulación: 100\n",
      "PROB. ACUM. HOST 2 | PROB. ACUM. HOST 3\n",
      "    50.050505050505045 % |     49.94949494949495 %\n",
      "++++++++++++++++++++++++++++++++++\n",
      "\n"
     ]
    }
   ],
   "source": [
    "print(solucion_basicprobabilistic_medias(array_media))"
   ]
  },
  {
   "cell_type": "code",
   "execution_count": 12,
   "id": "f473ffc2-b67b-43ad-a76c-f0bf0ec983ac",
   "metadata": {
    "tags": []
   },
   "outputs": [
    {
     "data": {
      "image/png": "[encoded data removed]",
      "text/plain": [
       "<Figure size 640x480 with 1 Axes>"
      ]
     },
     "metadata": {},
     "output_type": "display_data"
    }
   ],
   "source": [
    "x = np.linspace(0,n_sim,n_sim)\n",
    "y1 = array_media[:,0]\n",
    "y2 = array_media[:,1]\n",
    "\n",
    "plt.plot(x,y1, label='host2')\n",
    "plt.plot(x,y2, label='host3')\n",
    "\n",
    "\n",
    "plt.title(\"Simulaciones virus machine\")\n",
    "plt.xlabel(\"simulaciones\")\n",
    "plt.ylabel(\"probabilidad\")\n",
    "plt.legend()\n",
    "\n",
    "plt.ylim(0,1)\n",
    "\n",
    "plt.show()"
   ]
  },
  {
   "cell_type": "code",
   "execution_count": 13,
   "id": "72cfd284-4f1c-4f61-a828-a1bc48df0f20",
   "metadata": {
    "tags": []
   },
   "outputs": [
    {
     "data": {
      "image/png": "[encoded data removed]",
      "text/plain": [
       "<Figure size 640x480 with 1 Axes>"
      ]
     },
     "metadata": {},
     "output_type": "display_data"
    }
   ],
   "source": [
    "plt.plot(x,y1, label='host2')\n",
    "plt.plot(x,y2, label='host3')\n",
    "\n",
    "\n",
    "plt.title(\"Simulaciones virus machine. CUDA Numba\")\n",
    "plt.xlabel(\"simulaciones\")\n",
    "plt.ylabel(\"probabilidad\")\n",
    "plt.legend()\n",
    "\n",
    "plt.show()"
   ]
  },
  {
   "cell_type": "code",
   "execution_count": null,
   "id": "69b85247-d918-4875-aa9a-2dffd38c7a91",
   "metadata": {},
   "outputs": [],
   "source": []
  },
  {
   "cell_type": "markdown",
   "id": "12fd28f4-cd66-4874-8f62-c4a742d1a931",
   "metadata": {},
   "source": [
    "# spsuma - secuencial "
   ]
  },
  {
   "cell_type": "code",
   "execution_count": 3,
   "id": "c5d48dfe-9862-432b-b9c1-4e613dc03dcd",
   "metadata": {
    "tags": []
   },
   "outputs": [
    {
     "name": "stdout",
     "output_type": "stream",
     "text": [
      "C_{0} = [60, 40, [2, 1], 0]\n",
      "C_{1} = [59, 39, [2, 1], 2]\n",
      "C_{2} = [58, 38, [2, 1], 4]\n",
      "C_{3} = [57, 37, [2, 1], 6]\n",
      "C_{4} = [56, 36, [2, 1], 8]\n",
      "C_{5} = [55, 35, [2, 1], 10]\n",
      "C_{6} = [54, 34, [2, 1], 12]\n",
      "C_{7} = [53, 33, [2, 1], 14]\n",
      "C_{8} = [52, 32, [2, 1], 16]\n",
      "C_{9} = [51, 31, [2, 1], 18]\n",
      "C_{10} = [50, 30, [2, 1], 20]\n",
      "C_{11} = [49, 29, [2, 1], 22]\n",
      "C_{12} = [48, 28, [2, 1], 24]\n",
      "C_{13} = [47, 27, [2, 1], 26]\n",
      "C_{14} = [46, 26, [2, 1], 28]\n",
      "C_{15} = [45, 25, [2, 1], 30]\n",
      "C_{16} = [44, 24, [2, 1], 32]\n",
      "C_{17} = [43, 23, [2, 1], 34]\n",
      "C_{18} = [42, 22, [2, 1], 36]\n",
      "C_{19} = [41, 21, [2, 1], 38]\n",
      "C_{20} = [40, 20, [2, 1], 40]\n",
      "C_{21} = [39, 19, [2, 1], 42]\n",
      "C_{22} = [38, 18, [2, 1], 44]\n",
      "C_{23} = [37, 17, [2, 1], 46]\n",
      "C_{24} = [36, 16, [2, 1], 48]\n",
      "C_{25} = [35, 15, [2, 1], 50]\n",
      "C_{26} = [34, 14, [2, 1], 52]\n",
      "C_{27} = [33, 13, [2, 1], 54]\n",
      "C_{28} = [32, 12, [2, 1], 56]\n",
      "C_{29} = [31, 11, [2, 1], 58]\n",
      "C_{30} = [30, 10, [2, 1], 60]\n",
      "C_{31} = [29, 9, [2, 1], 62]\n",
      "C_{32} = [28, 8, [2, 1], 64]\n",
      "C_{33} = [27, 7, [2, 1], 66]\n",
      "C_{34} = [26, 6, [2, 1], 68]\n",
      "C_{35} = [25, 5, [2, 1], 70]\n",
      "C_{36} = [24, 4, [2, 1], 72]\n",
      "C_{37} = [23, 3, [2, 1], 74]\n",
      "C_{38} = [22, 2, [2, 1], 76]\n",
      "C_{39} = [21, 1, [2, 1], 78]\n",
      "C_{40} = [20, 0, [2, 1], 80]\n",
      "C_{41} = [19, 0, [1, 3], 81]\n",
      "C_{42} = [18, 0, [1], 82]\n",
      "C_{43} = [17, 0, [1], 83]\n",
      "C_{44} = [16, 0, [1], 84]\n",
      "C_{45} = [15, 0, [1], 85]\n",
      "C_{46} = [14, 0, [1], 86]\n",
      "C_{47} = [13, 0, [1], 87]\n",
      "C_{48} = [12, 0, [1], 88]\n",
      "C_{49} = [11, 0, [1], 89]\n",
      "C_{50} = [10, 0, [1], 90]\n",
      "C_{51} = [9, 0, [1], 91]\n",
      "C_{52} = [8, 0, [1], 92]\n",
      "C_{53} = [7, 0, [1], 93]\n",
      "C_{54} = [6, 0, [1], 94]\n",
      "C_{55} = [5, 0, [1], 95]\n",
      "C_{56} = [4, 0, [1], 96]\n",
      "C_{57} = [3, 0, [1], 97]\n",
      "C_{58} = [2, 0, [1], 98]\n",
      "C_{59} = [1, 0, [1], 99]\n",
      "C_{60} = [0, 0, [1], 100]\n",
      "C_{61} = [0, 0, [2], 100]\n",
      "C_{62} = [0, 0, [3], 100]\n",
      "C_{62} = [0, 0, [3], 100]\n"
     ]
    },
    {
     "data": {
      "text/plain": [
       "(62, [0, 0, [2], 100])"
      ]
     },
     "execution_count": 3,
     "metadata": {},
     "output_type": "execute_result"
    }
   ],
   "source": [
    "n1 = 60\n",
    "n2 = 40\n",
    "vm = spsuma(n1,n2)\n",
    "vm.compute(verbose = 2, steps = 62)"
   ]
  },
  {
   "cell_type": "code",
   "execution_count": 4,
   "id": "c6ee9a4d-81f5-4f8a-8ead-55b3a739f1c5",
   "metadata": {
    "tags": []
   },
   "outputs": [
    {
     "name": "stdout",
     "output_type": "stream",
     "text": [
      "846 ns ± 7.73 ns per loop (mean ± std. dev. of 7 runs, 1,000,000 loops each)\n"
     ]
    }
   ],
   "source": [
    "%timeit vm.compute(verbose = 0, steps = 62)"
   ]
  },
  {
   "cell_type": "code",
   "execution_count": null,
   "id": "59b178b8-9a26-4e54-b467-5b8503cd8a1a",
   "metadata": {},
   "outputs": [],
   "source": []
  },
  {
   "cell_type": "markdown",
   "id": "aa9dc64b-0654-4cac-ac61-64a7200de322",
   "metadata": {
    "tags": []
   },
   "source": [
    "# spsuma - CUDA NUMBA"
   ]
  },
  {
   "cell_type": "code",
   "execution_count": 5,
   "id": "a295e5f0-c2fa-4730-b9a3-30cc772edd3a",
   "metadata": {
    "tags": []
   },
   "outputs": [],
   "source": [
    "@cuda.jit\n",
    "def kernel_compute(array_comp, initial_instructions):\n",
    "    x = cuda.threadIdx.x\n",
    "    columna = cuda.blockDim.x * cuda.blockIdx.x + x\n",
    "    \n",
    "    # recorrer la matriz a mano, paralelización por cada step.\n",
    "    for i in range(1, array_comp.shape[0]):\n",
    "        if(array_comp[i-1][0] != 0 and array_comp[i-1][1] != 0):\n",
    "            if (columna < initial_instructions.shape[0]):   \n",
    "                array_comp[i][columna] = array_comp[i-1][columna] - 1\n",
    "                array_comp[i][2] = array_comp[i-1][2] + initial_instructions.shape[0] # sin pesos, voy a sumar la cantidad de instrucciones que se activen\n",
    "                array_comp[i][3] = 2\n",
    "        elif(array_comp[i-1][0] == 0 and array_comp[i-1][1] == 0):\n",
    "            sol = array_comp[i-1][2]\n",
    "            if (columna < array_comp.shape[0] - i):\n",
    "                array_comp[columna + i][2] = sol\n",
    "                array_comp[columna + i][3] = -1\n",
    "        else:\n",
    "            # mono instrucción por step:\n",
    "            if (array_comp[i-1][0] == 0 and array_comp[i-1][1] != 0):\n",
    "                array_comp[i][1] = array_comp[i-1][1] - 1\n",
    "                array_comp[i][2] = array_comp[i-1][2] + 1\n",
    "                array_comp[i][3] = 1\n",
    "            \n",
    "            elif(array_comp[i-1][1] == 0 and array_comp[i-1][0] != 0):\n",
    "                array_comp[i][0] = array_comp[i-1][0] - 1\n",
    "                array_comp[i][2] = array_comp[i-1][2] + 1\n",
    "                array_comp[i][3] = 0\n",
    "        cuda.syncthreads()\n",
    "                \n",
    "                \n",
    "                 #[15  5 30  2]\n",
    "                 #[14  4 32  2]\n",
    "                 #[13  3 33  1]"
   ]
  },
  {
   "cell_type": "code",
   "execution_count": 6,
   "id": "bf1a89fe-9a5f-459a-8146-0d33cd701fde",
   "metadata": {
    "tags": []
   },
   "outputs": [],
   "source": [
    "def solucion_spsuma_cuda(array_comp):\n",
    "    tam = array_comp.shape[0]\n",
    "    s = f\"sofparallel suma: {n_steps} steps\\n\"\n",
    "    s += f\"--STEP 0--\\n\"\n",
    "    s += f\"nº virus HOST 1: {n1}\\n\"\n",
    "    s += f\"nº virus HOST 2: {n2}\\n\"\n",
    "    s += f\"Actividades en paralelo: (i1, i2)\\n\"\n",
    "    if tam <= 10:\n",
    "        for i in range(1,tam):\n",
    "            s += f\"--STEP {i}--\\n\"\n",
    "            if (array_comp[i][3] == 2):\n",
    "                s += \"Actividades en paralelo: (i1,i2)\\n\"\n",
    "            elif (array_comp[i][3] == 1):\n",
    "                s += \"Actividad: i2\\n\"\n",
    "            elif (array_comp[i][3] == 0):\n",
    "                s += \"Actividad: i1\\n\"\n",
    "            else:\n",
    "                s += \"Actividad i3.\\n\"\n",
    "                s += \"FINAL DE LA SIMULACION\\n\"\n",
    "\n",
    "            s += f\"| HOST 1 | HOST 2 | HOST 3 |\\n\"\n",
    "            s += f\"|    {array_comp[i][0]}    |    {array_comp[i][1]}    |    {array_comp[i][2]}    |\\n\"\n",
    "    else:\n",
    "        for i in range(5):\n",
    "            s += f\"--STEP {i+1}--\\n\"\n",
    "            if (array_comp[i][3] == 2):\n",
    "                s += \"Actividades en paralelo: (i1,i2)\\n\"\n",
    "            elif (array_comp[i][3] == 1):\n",
    "                s += \"Actividad: i2\\n\"\n",
    "            elif (array_comp[i][3] == 0):\n",
    "                s += \"Actividad: i1\\n\"\n",
    "            else:\n",
    "                s += \"Actividad: i3.\\n\"\n",
    "                s += \"FINAL DE LA SIMULACION\\n\"\n",
    "\n",
    "            s += f\"| HOST 1 | HOST 2 | HOST 3 |\\n\"\n",
    "            s += f\"|    {array_comp[i][0]}    |    {array_comp[i][1]}    |    {array_comp[i][2]}    |\\n\"\n",
    "            \n",
    "        for i in range(tam-5,tam):\n",
    "            if(i == (tam-5)):\n",
    "                s += \".\\n\"\n",
    "                s += \".\\n\"\n",
    "                s += \".\\n\"\n",
    "            s += f\"--STEP {i+1}--\\n\"\n",
    "            if (array_comp[i-1][3] == 2):\n",
    "                s += \"Actividades en paralelo: (i1,i2)\\n\"\n",
    "            elif (array_comp[i-1][3] == 1):\n",
    "                s += \"Actividad: i2\\n\"\n",
    "            elif (array_comp[i-1][3] == 0):\n",
    "                s += \"Actividad: i1\\n\"\n",
    "            else:\n",
    "                s += \"Actividad: i3\\n\"\n",
    "                s += \"FINAL DE LA SIMULACION\\n\"\n",
    "\n",
    "            s += f\"| HOST 1 | HOST 2 | HOST 3 |\\n\"\n",
    "            s += f\"|     {array_comp[i-1][0]}    |     {array_comp[i-1][1]}    |    {array_comp[i-1][2]}    |\\n\"\n",
    "                  \n",
    "    return s"
   ]
  },
  {
   "cell_type": "code",
   "execution_count": 36,
   "id": "6ba7d7c9-18d2-4922-8447-da725fddd75f",
   "metadata": {
    "tags": []
   },
   "outputs": [],
   "source": [
    "n1 = 5\n",
    "n2 = 4\n",
    "\n",
    "n_steps = 6\n",
    "initial_instructions = np.array([0, 1]) #i1 e i2 activas, que a su vez apuntan al host1 y host2 (posicion 0 y 1 del array de computacion)\n",
    "\n",
    "array_comp = np.zeros((n_steps,4), dtype=np.int64)\n",
    "array_comp[0,0] = n1\n",
    "array_comp[0,1] = n2"
   ]
  },
  {
   "cell_type": "code",
   "execution_count": 37,
   "id": "566d183f-5628-4d93-9ee2-4dfba66e28e5",
   "metadata": {
    "tags": []
   },
   "outputs": [],
   "source": [
    "cuda.select_device(0)\n",
    "threads_per_block = 1024\n",
    "#blocks_per_grid1 = ((n_sim + (threads_per_block - 1)) // threads_per_block, (n + threads_per_block -1) // threads_per_block)\n",
    "blocks_per_grid2 = ((initial_instructions.shape[0] + (threads_per_block - 1)) // threads_per_block, (3 + threads_per_block -1) // threads_per_block)\n",
    "d_array_comp = cuda.to_device(array_comp)\n",
    "d_initial_instructions = cuda.to_device(initial_instructions)"
   ]
  },
  {
   "cell_type": "code",
   "execution_count": 38,
   "id": "c03c780d-859c-46e7-80cf-9c6e15578f4c",
   "metadata": {
    "tags": []
   },
   "outputs": [
    {
     "name": "stdout",
     "output_type": "stream",
     "text": [
      "sofparallel suma: 6 steps\n",
      "--STEP 0--\n",
      "nº virus HOST 1: 5\n",
      "nº virus HOST 2: 4\n",
      "Actividades en paralelo: (i1, i2)\n",
      "--STEP 1--\n",
      "Actividades en paralelo: (i1,i2)\n",
      "| HOST 1 | HOST 2 | HOST 3 |\n",
      "|    4    |    3    |    2    |\n",
      "--STEP 2--\n",
      "Actividades en paralelo: (i1,i2)\n",
      "| HOST 1 | HOST 2 | HOST 3 |\n",
      "|    3    |    2    |    4    |\n",
      "--STEP 3--\n",
      "Actividades en paralelo: (i1,i2)\n",
      "| HOST 1 | HOST 2 | HOST 3 |\n",
      "|    2    |    1    |    6    |\n",
      "--STEP 4--\n",
      "Actividades en paralelo: (i1,i2)\n",
      "| HOST 1 | HOST 2 | HOST 3 |\n",
      "|    1    |    0    |    8    |\n",
      "--STEP 5--\n",
      "Actividad: i1\n",
      "| HOST 1 | HOST 2 | HOST 3 |\n",
      "|    0    |    0    |    9    |\n",
      "\n"
     ]
    }
   ],
   "source": [
    "kernel_compute[blocks_per_grid2, threads_per_block](d_array_comp, d_initial_instructions)\n",
    "array_comp = d_array_comp.copy_to_host()\n",
    "#print(array_comp)\n",
    "print(solucion_spsuma_cuda(array_comp))"
   ]
  },
  {
   "cell_type": "code",
   "execution_count": null,
   "id": "2e29ce0b-303e-42d0-b9b3-4e62146d2ae0",
   "metadata": {},
   "outputs": [],
   "source": []
  },
  {
   "cell_type": "code",
   "execution_count": 31,
   "id": "f157986c-5551-46aa-a7a8-2526d38cd586",
   "metadata": {
    "tags": []
   },
   "outputs": [],
   "source": [
    "array_comp = np.zeros((n_steps,4), dtype=np.int64)\n",
    "d_array_comp = cuda.to_device(array_comp)\n",
    "d_initial_instructions = cuda.to_device(initial_instructions)"
   ]
  },
  {
   "cell_type": "code",
   "execution_count": 32,
   "id": "10679ad9-a3b1-47db-a3e1-f4459afd0995",
   "metadata": {
    "tags": []
   },
   "outputs": [
    {
     "name": "stdout",
     "output_type": "stream",
     "text": [
      "33.4 µs ± 18.1 ns per loop (mean ± std. dev. of 7 runs, 10,000 loops each)\n"
     ]
    }
   ],
   "source": [
    "%timeit kernel_compute[blocks_per_grid2, threads_per_block](d_array_comp, d_initial_instructions)"
   ]
  },
  {
   "cell_type": "code",
   "execution_count": null,
   "id": "12c13a3a-73b2-45be-8c26-907b859ed485",
   "metadata": {},
   "outputs": [],
   "source": []
  },
  {
   "cell_type": "code",
   "execution_count": null,
   "id": "0a966f96-de1a-4a8b-857f-b68f003044a3",
   "metadata": {},
   "outputs": [],
   "source": []
  },
  {
   "cell_type": "markdown",
   "id": "f7513494-9ab1-4f85-a0e6-d8fe9390d041",
   "metadata": {},
   "source": [
    "# SPNUMBA v2"
   ]
  },
  {
   "cell_type": "code",
   "execution_count": null,
   "id": "50109dc3-29a8-426f-9fc5-dab7137ac823",
   "metadata": {},
   "outputs": [],
   "source": [
    "@cuda.jit\n",
    "def kernel_compute(array_comp, initial_instructions):\n",
    "    x = cuda.threadIdx.x\n",
    "    fila = cuda.blockDim.x * cuda.blockIdx.x + x\n",
    "    \n",
    "    y = cuda.threadIdx.y\n",
    "    columna = cuda.blockDim.y * cuda.blockIdx.y + y\n",
    "    \n",
    "    if fila >= array_comp.shape[0] and columna >= array_comp.shape[1]:\n",
    "        return\n",
    "    ç?? ?\n",
    "    \n",
    "    \n",
    "    # recorrer la matriz a mano, paralelización por cada step.\n",
    "    for i in range(1, array_comp.shape[0]):\n",
    "        if(array_comp[i-1][0] != 0 and array_comp[i-1][1] != 0):\n",
    "            if (columna < initial_instructions.shape[0]):   \n",
    "                array_comp[i][columna] = array_comp[i-1][columna] - 1\n",
    "                array_comp[i][2] = array_comp[i-1][2] + initial_instructions.shape[0] # sin pesos, voy a sumar la cantidad de instrucciones que se activen\n",
    "                array_comp[i][3] = 2\n",
    "        elif(array_comp[i-1][0] == 0 and array_comp[i-1][1] == 0):\n",
    "            sol = array_comp[i-1][2]\n",
    "            if (columna < array_comp.shape[0] - i):\n",
    "                array_comp[columna + i][2] = sol\n",
    "                array_comp[columna + i][3] = -1\n",
    "        else:\n",
    "            # mono instrucción por step:\n",
    "            if (array_comp[i-1][0] == 0 and array_comp[i-1][1] != 0):\n",
    "                array_comp[i][1] = array_comp[i-1][1] - 1\n",
    "                array_comp[i][2] = array_comp[i-1][2] + 1\n",
    "                array_comp[i][3] = 1\n",
    "            \n",
    "            elif(array_comp[i-1][1] == 0 and array_comp[i-1][0] != 0):\n",
    "                array_comp[i][0] = array_comp[i-1][0] - 1\n",
    "                array_comp[i][2] = array_comp[i-1][2] + 1\n",
    "                array_comp[i][3] = 0\n",
    "        cuda.syncthreads()"
   ]
  },
  {
   "cell_type": "code",
   "execution_count": null,
   "id": "9d71677c-7008-4f92-958f-fb007a45cd36",
   "metadata": {},
   "outputs": [],
   "source": []
  },
  {
   "cell_type": "code",
   "execution_count": null,
   "id": "95cee356-e664-4a0d-8309-b69d274d1fd3",
   "metadata": {},
   "outputs": [],
   "source": []
  },
  {
   "cell_type": "code",
   "execution_count": null,
   "id": "c2761fdf-1d8b-42f3-8c92-e49c3dd91982",
   "metadata": {},
   "outputs": [],
   "source": []
  },
  {
   "cell_type": "code",
   "execution_count": null,
   "id": "c551d62e-e033-4568-a683-a0faaac884e4",
   "metadata": {},
   "outputs": [],
   "source": []
  },
  {
   "cell_type": "code",
   "execution_count": null,
   "id": "a1947d96-b448-4c53-8071-074b296f2dc3",
   "metadata": {},
   "outputs": [],
   "source": []
  }
 ],
 "metadata": {
  "kernelspec": {
   "display_name": "Python 3 (ipykernel)",
   "language": "python",
   "name": "python3"
  },
  "language_info": {
   "codemirror_mode": {
    "name": "ipython",
    "version": 3
   },
   "file_extension": ".py",
   "mimetype": "text/x-python",
   "name": "python",
   "nbconvert_exporter": "python",
   "pygments_lexer": "ipython3",
   "version": "3.9.16"
  }
 },
 "nbformat": 4,
 "nbformat_minor": 5
}
