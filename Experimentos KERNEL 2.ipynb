{
 "cells": [
  {
   "cell_type": "code",
   "execution_count": 2,
   "id": "c69a09d4-921d-4099-9de3-e4a16c213838",
   "metadata": {
    "tags": []
   },
   "outputs": [
    {
     "name": "stdout",
     "output_type": "stream",
     "text": [
      "['/home/servelgar/tfg-cuda', '/usr/lib64/python39.zip', '/usr/lib64/python3.9', '/usr/lib64/python3.9/lib-dynload', '', '/home/servelgar/.local/lib/python3.9/site-packages', '/usr/local/lib64/python3.9/site-packages', '/usr/local/lib/python3.9/site-packages', '/usr/lib64/python3.9/site-packages', '/usr/lib/python3.9/site-packages', '/home/servelgar/tfg-cuda/vm/examples', '/home/servelgar/tfg-cuda/vm/src', '/home/servelgar/tfg-cuda/vm/tests', '/home/servelgar/tfg-cuda/vm/examples', '/home/servelgar/tfg-cuda/vm/src', '/home/servelgar/tfg-cuda/vm/tests']\n"
     ]
    }
   ],
   "source": [
    "import math\n",
    "import random\n",
    "from numba import cuda,jit,njit,config\n",
    "import numpy as np\n",
    "from numba.cuda.random import create_xoroshiro128p_states, xoroshiro128p_uniform_float32\n",
    "import time\n",
    "import matplotlib.pyplot as plt   \n",
    "import sys\n",
    "import os\n",
    "sys.path.append(\"/home/servelgar/tfg-cuda/vm/examples\")\n",
    "sys.path.append(\"/home/servelgar/tfg-cuda/vm/src\")\n",
    "sys.path.append(\"/home/servelgar/tfg-cuda/vm/tests\")\n",
    "print(sys.path)\n",
    "from basicprobabilistic import basicprobabilistic\n",
    "from spsuma import spsuma"
   ]
  },
  {
   "cell_type": "markdown",
   "id": "23c0d46b-8bb5-461d-804f-adb7284e1f12",
   "metadata": {
    "tags": []
   },
   "source": [
    "# Table of contents\n",
    "1. [Simulador basicprobabilistic](#basicprobabilistic)\n",
    "    1. [Comprobación de probabilidades](#prob)\n",
    "    2. [RTX 2080](#2080)\n",
    "    3. [RTX 3090](#3090)\n",
    "    4. [CPU JIT](#jit)\n",
    "    5. [CPU](#cpunj)\n",
    "2. [Simulador spsuma](#spsuma)\n",
    "    1. [RTX 2080](#rtx)\n",
    "    2. [RTX 3090](#rtx2)\n",
    "    3. [CPU](#cpu)\n",
    "    4. [CPU JIT](#cpujit)\n",
    "3. [Graficas](#graficas)\n",
    "    1. [basicprobabilistic](#bs)\n",
    "    2. [spsuma](#sp)\n"
   ]
  },
  {
   "cell_type": "markdown",
   "id": "4f5bf6bc-836a-4eac-a69f-70008bb6bc32",
   "metadata": {},
   "source": [
    "# SIMULADOR BASICPROBABILISTIC <a name=\"basicprobabilistic\"></a>\n"
   ]
  },
  {
   "cell_type": "code",
   "execution_count": null,
   "id": "03543bcc-76d2-43ea-8382-f143f7e9983e",
   "metadata": {},
   "outputs": [],
   "source": []
  },
  {
   "cell_type": "code",
   "execution_count": 2,
   "id": "1d92c058-c502-4b96-9f0c-38a52b92124c",
   "metadata": {
    "tags": []
   },
   "outputs": [],
   "source": [
    "@cuda.jit\n",
    "def kernel_computeN(array_sims,p,rng_state):\n",
    "    startx, starty = cuda.grid(2)\n",
    "    stridex, stridey = cuda.gridsize(2)\n",
    "    \n",
    "    cdf = cuda.local.array(shape=2, dtype=np.float64)\n",
    "    cdf[0] = p\n",
    "    cdf[1] = p + (1-p)\n",
    "    index = 0\n",
    "       \n",
    "    for i in range(startx, array_sims.shape[0], stridex):\n",
    "        for j in range(starty, array_sims.shape[1], stridey):\n",
    "            idx = i * stridey + j\n",
    "            rng = xoroshiro128p_uniform_float32(rng_state,idx)\n",
    "            while (rng > cdf[index]):\n",
    "                index = 1\n",
    "            array_sims[i, j] = index\n",
    "            \n",
    "\n",
    "    \n",
    "@cuda.jit\n",
    "def s_reduce_sum(A,C):\n",
    "    fila = cuda.grid(1)\n",
    "    if fila < A.shape[0]:\n",
    "        fila_sum = 0\n",
    "        for j in range(A.shape[1]):\n",
    "            fila_sum += A[fila,j]\n",
    "        C[fila,0] = fila_sum\n",
    "        C[fila,1] = A.shape[1] - fila_sum"
   ]
  },
  {
   "cell_type": "code",
   "execution_count": 3,
   "id": "1c05e804-269e-4884-84e1-b061d83dbde5",
   "metadata": {
    "tags": []
   },
   "outputs": [],
   "source": [
    "@njit\n",
    "def probabilistic_acum(input_matrix):\n",
    "    array_media = np.zeros((n_sim,2), dtype = np.float64)\n",
    "    \n",
    "    for j in range(input_matrix.shape[1]):\n",
    "        tmp = 0\n",
    "        for i in range(input_matrix.shape[0]):\n",
    "            tmp += input_matrix[i][j]\n",
    "            media = tmp / ((i+1)*n)\n",
    "            array_media[i][j] = media\n",
    "    \n",
    "    return array_media"
   ]
  },
  {
   "cell_type": "markdown",
   "id": "8212c1f0-e03c-450b-9d46-4c6dbc9a1e83",
   "metadata": {
    "tags": []
   },
   "source": [
    "## COMPROBAR PROBABILIDADES <a name=\"prob\"></a>"
   ]
  },
  {
   "cell_type": "code",
   "execution_count": 4,
   "id": "347457b7-b338-4449-b815-32843d965388",
   "metadata": {
    "tags": []
   },
   "outputs": [
    {
     "name": "stdout",
     "output_type": "stream",
     "text": [
      "1024\n",
      "16\n"
     ]
    },
    {
     "name": "stderr",
     "output_type": "stream",
     "text": [
      "/home/servelgar/.local/lib/python3.9/site-packages/numba/cuda/dispatcher.py:539: NumbaPerformanceWarning: Grid size 16 will likely result in GPU under-utilization due to low occupancy.\n",
      "  warn(NumbaPerformanceWarning(msg))\n",
      "/home/servelgar/.local/lib/python3.9/site-packages/numba/cuda/dispatcher.py:539: NumbaPerformanceWarning: Grid size 16 will likely result in GPU under-utilization due to low occupancy.\n",
      "  warn(NumbaPerformanceWarning(msg))\n"
     ]
    },
    {
     "name": "stdout",
     "output_type": "stream",
     "text": [
      "[0.5003 0.4997]\n"
     ]
    }
   ],
   "source": [
    "########## VARIABLES #########\n",
    "n = 100  # numero de viruses\n",
    "n_sim = 100  # numero de simulaciones\n",
    "p = 0.5 # prob\n",
    "\n",
    "####### Preparar las simulaciones ######\n",
    "array_sims = np.zeros((n_sim,n), dtype=np.int32)\n",
    "array_sims_final = np.zeros((n_sim,2), dtype=np.int64)\n",
    "\n",
    "############ INICIALIZACION DE HILOS, ETC #################\n",
    "cuda.select_device(1)\n",
    "threads_per_block = (32,32)\n",
    "blocks_per_grid_x = math.ceil(array_sims.shape[0] / threads_per_block[0])\n",
    "blocks_per_grid_y = math.ceil(array_sims.shape[1] / threads_per_block[1])\n",
    "blocks_per_grid = (blocks_per_grid_x, blocks_per_grid_y)\n",
    "nTPB = int(np.prod(threads_per_block))\n",
    "nB = int(np.prod(blocks_per_grid))\n",
    "rng_states = create_xoroshiro128p_states(int(np.prod(threads_per_block) * np.prod(blocks_per_grid)), seed=1)\n",
    "print(nTPB)\n",
    "print(nB)\n",
    "\n",
    "################### LAUNCH Y PRINT #####################\n",
    "d_array_sims = cuda.to_device(array_sims)\n",
    "\n",
    "kernel_computeN[blocks_per_grid, threads_per_block](d_array_sims,p, rng_states)\n",
    "d_array_final = cuda.to_device(array_sims_final)\n",
    "\n",
    "s_reduce_sum[nB,nTPB](d_array_sims,d_array_final)\n",
    "\n",
    "array_sims = d_array_sims.copy_to_host()\n",
    "array_sims_final = d_array_final.copy_to_host()\n",
    "array_medias2 = probabilistic_acum(array_sims_final)\n",
    "print(array_medias2[len(array_medias2)-1])"
   ]
  },
  {
   "cell_type": "code",
   "execution_count": 5,
   "id": "1c4b4493-316a-400f-9dfe-9408a1309256",
   "metadata": {
    "tags": []
   },
   "outputs": [
    {
     "data": {
      "image/png": "[encoded data removed]",
      "text/plain": [
       "<Figure size 640x480 with 1 Axes>"
      ]
     },
     "metadata": {},
     "output_type": "display_data"
    }
   ],
   "source": [
    "\n",
    "x = np.linspace(0,n_sim,n_sim)\n",
    "y3 = array_medias2[:,0]\n",
    "y4 = array_medias2[:,1]\n",
    "\n",
    "plt.plot(x,y3, label='computeN_host2')\n",
    "plt.plot(x,y4, label='computeN_host3')\n",
    "\n",
    "plt.title(\"Probabilidades acumuladas. kernel_computeN\")\n",
    "plt.xlabel(\"simulaciones\")\n",
    "plt.ylabel(\"probabilidad\")\n",
    "plt.legend()\n",
    "\n",
    "plt.show()"
   ]
  },
  {
   "cell_type": "code",
   "execution_count": 15,
   "id": "8c2025a1-8138-4b1a-9807-e5318939996a",
   "metadata": {
    "tags": []
   },
   "outputs": [
    {
     "name": "stdout",
     "output_type": "stream",
     "text": [
      "[0.1932 0.8068]\n"
     ]
    }
   ],
   "source": [
    "########## VARIABLES #########\n",
    "n = 100  # numero de viruses\n",
    "n_sim = 100  # numero de simulaciones\n",
    "p = 0.8 # prob\n",
    "\n",
    "####### Preparar las simulaciones ######\n",
    "array_sims = np.zeros((n_sim,n), dtype=np.int32)\n",
    "array_sims_final = np.zeros((n_sim,2), dtype=np.int64)\n",
    "\n",
    "############ INICIALIZACION DE HILOS, ETC #################\n",
    "cuda.select_device(1)\n",
    "threads_per_block = (32,32)\n",
    "blocks_per_grid_x = math.ceil(array_sims.shape[0] / threads_per_block[0])\n",
    "blocks_per_grid_y = math.ceil(array_sims.shape[1] / threads_per_block[1])\n",
    "blocks_per_grid = (blocks_per_grid_x, blocks_per_grid_y)\n",
    "nTPB = int(np.prod(threads_per_block))\n",
    "nB = int(np.prod(blocks_per_grid))\n",
    "rng_states = create_xoroshiro128p_states(int(np.prod(threads_per_block) * np.prod(blocks_per_grid)), seed=1)\n",
    "\n",
    "\n",
    "################### LAUNCH Y PRINT #####################\n",
    "d_array_sims = cuda.to_device(array_sims)\n",
    "\n",
    "kernel_computeN[blocks_per_grid, threads_per_block](d_array_sims,p, rng_states)\n",
    "d_array_final = cuda.to_device(array_sims_final)\n",
    "\n",
    "s_reduce_sum[nB,nTPB](d_array_sims,d_array_final)\n",
    "\n",
    "array_sims = d_array_sims.copy_to_host()\n",
    "array_sims_final = d_array_final.copy_to_host()\n",
    "array_medias2 = probabilistic_acum(array_sims_final)\n",
    "print(array_medias2[len(array_medias2)-1])"
   ]
  },
  {
   "cell_type": "code",
   "execution_count": 7,
   "id": "36b16747-b076-4676-8f21-2b90a9cc4297",
   "metadata": {
    "tags": []
   },
   "outputs": [
    {
     "data": {
      "image/png": "[encoded data removed]",
      "text/plain": [
       "<Figure size 640x480 with 1 Axes>"
      ]
     },
     "metadata": {},
     "output_type": "display_data"
    }
   ],
   "source": [
    "x = np.linspace(0,n_sim,n_sim)\n",
    "y3 = array_medias2[:,0]\n",
    "y4 = array_medias2[:,1]\n",
    "\n",
    "plt.plot(x,y3, label='computeN_host2')\n",
    "plt.plot(x,y4, label='computeN_host3')\n",
    "\n",
    "plt.title(\"Probabilidades acumuladas. kernel_computeN\")\n",
    "plt.xlabel(\"simulaciones\")\n",
    "plt.ylabel(\"probabilidad\")\n",
    "plt.legend()\n",
    "\n",
    "plt.show()"
   ]
  },
  {
   "cell_type": "markdown",
   "id": "0fe3ad71-afae-4a52-8b86-8766b81218a8",
   "metadata": {},
   "source": [
    "\n",
    "# RTX 2080 <a name=\"2080\"></a>"
   ]
  },
  {
   "cell_type": "code",
   "execution_count": 8,
   "id": "344595f8-3e01-4b41-a38a-bfe4afb2af92",
   "metadata": {
    "tags": []
   },
   "outputs": [],
   "source": [
    "########## VARIABLES #########\n",
    "n = 10000  # numero de viruses\n",
    "n_sim = 10000  # numero de simulaciones\n",
    "p = 0.5 # prob\n",
    "\n",
    "####### Preparar las simulaciones ######\n",
    "array_sims = np.zeros((n_sim,n), dtype=np.int32)\n",
    "array_suma = np.zeros((n_sim,2), dtype=np.int64)\n",
    "cuda.current_context().get_memory_info()\n",
    "cuda.select_device(0)\n",
    "threads_per_block = (32,32)\n",
    "blocks_per_grid_x = math.ceil(array_sims.shape[0] / threads_per_block[0])\n",
    "blocks_per_grid_y = math.ceil(array_sims.shape[1] / threads_per_block[1])\n",
    "blocks_per_grid = (blocks_per_grid_x, blocks_per_grid_y)\n",
    "nTPB = int(np.prod(threads_per_block))\n",
    "nB = int(np.prod(blocks_per_grid))\n",
    "rng_states = create_xoroshiro128p_states(int(np.prod(threads_per_block) * np.prod(blocks_per_grid)), seed=time.time())"
   ]
  },
  {
   "cell_type": "code",
   "execution_count": 9,
   "id": "b0f174c1-ff3a-4d8a-885b-e40e92ef6888",
   "metadata": {
    "tags": []
   },
   "outputs": [],
   "source": [
    "d_array_sims = cuda.to_device(array_sims)\n",
    "d_array_suma = cuda.to_device(array_suma)"
   ]
  },
  {
   "cell_type": "code",
   "execution_count": 10,
   "id": "0063308f-6be3-4619-88a4-aaeff466ce20",
   "metadata": {
    "tags": []
   },
   "outputs": [
    {
     "name": "stdout",
     "output_type": "stream",
     "text": [
      "20.3 ms ± 5.43 µs per loop (mean ± std. dev. of 7 runs, 1,000 loops each)\n"
     ]
    }
   ],
   "source": [
    "%timeit kernel_computeN[blocks_per_grid, threads_per_block](d_array_sims,p, rng_states)"
   ]
  },
  {
   "cell_type": "code",
   "execution_count": 100,
   "id": "4e1610c5-bd8d-415c-be48-69869211aa0a",
   "metadata": {
    "tags": []
   },
   "outputs": [],
   "source": [
    "kernel_computeN[blocks_per_grid, threads_per_block](d_array_sims,p,rng_states)\n",
    "blocks = math.ceil(array_sims.shape[0]/1024)"
   ]
  },
  {
   "cell_type": "code",
   "execution_count": 7,
   "id": "06991274-d4cf-43f7-9f12-8e0e19048709",
   "metadata": {
    "tags": []
   },
   "outputs": [
    {
     "name": "stdout",
     "output_type": "stream",
     "text": [
      "7 ms ± 1.38 µs per loop (mean ± std. dev. of 7 runs, 1,000 loops each)\n"
     ]
    }
   ],
   "source": [
    "%timeit s_reduce_sum[nB,nTPB](d_array_sims, d_array_suma)"
   ]
  },
  {
   "cell_type": "code",
   "execution_count": 4,
   "id": "ed62c8ce-8e28-45e7-bf46-1c42762bddd5",
   "metadata": {
    "tags": []
   },
   "outputs": [],
   "source": [
    "########## VARIABLES #########\n",
    "n = 5000  # numero de viruses\n",
    "n_sim = 5000  # numero de simulaciones\n",
    "p = 0.5 # prob\n",
    "\n",
    "####### Preparar las simulaciones ######\n",
    "array_sims = np.zeros((n_sim,n), dtype=np.float64)\n",
    "array_suma = np.zeros((n_sim,2), dtype=np.int64)\n",
    "cuda.select_device(0)\n",
    "#print(cuda.current_context().get_memory_info())\n",
    "threads_per_block = (32,32)\n",
    "blocks_per_grid_x = math.ceil(array_sims.shape[0] / threads_per_block[0])\n",
    "blocks_per_grid_y = math.ceil(array_sims.shape[1] / threads_per_block[1])\n",
    "blocks_per_grid = (blocks_per_grid_x, blocks_per_grid_y)\n",
    "nTPB = int(np.prod(threads_per_block))\n",
    "nB = int(np.prod(blocks_per_grid))\n",
    "rng_states = create_xoroshiro128p_states(int(np.prod(threads_per_block) * np.prod(blocks_per_grid)), seed=time.time())"
   ]
  },
  {
   "cell_type": "code",
   "execution_count": 5,
   "id": "2a68a6b7-da31-4ab8-bde5-e503efd805fc",
   "metadata": {
    "tags": []
   },
   "outputs": [],
   "source": [
    "d_array_sims = cuda.to_device(array_sims)\n",
    "d_array_suma = cuda.to_device(array_suma)"
   ]
  },
  {
   "cell_type": "code",
   "execution_count": 11,
   "id": "2ea4bd8b-841a-4cf1-b978-606ccdd2f810",
   "metadata": {
    "tags": []
   },
   "outputs": [
    {
     "name": "stdout",
     "output_type": "stream",
     "text": [
      "6.06 ms ± 1.38 µs per loop (mean ± std. dev. of 7 runs, 1,000 loops each)\n"
     ]
    }
   ],
   "source": [
    "%timeit kernel_computeN[blocks_per_grid, threads_per_block](d_array_sims,p, rng_states)"
   ]
  },
  {
   "cell_type": "code",
   "execution_count": 6,
   "id": "76a5eb29-f11d-4795-b470-5cdd3dae8822",
   "metadata": {
    "tags": []
   },
   "outputs": [],
   "source": [
    "kernel_computeN[blocks_per_grid, threads_per_block](d_array_sims,p,rng_states)\n",
    "blocks = math.ceil(array_sims.shape[0]/1024)"
   ]
  },
  {
   "cell_type": "code",
   "execution_count": 7,
   "id": "5d24c577-903d-4f8d-809d-2cb38718d330",
   "metadata": {
    "tags": []
   },
   "outputs": [],
   "source": [
    "#%timeit k_suma_virus_hosts[[nB,nTPB](d_array_sims, d_array_suma)"
   ]
  },
  {
   "cell_type": "code",
   "execution_count": 8,
   "id": "ddde476a-14cb-4685-a459-9580dd1aca9f",
   "metadata": {
    "tags": []
   },
   "outputs": [
    {
     "name": "stdout",
     "output_type": "stream",
     "text": [
      "3.9 ms ± 6.32 µs per loop (mean ± std. dev. of 7 runs, 1,000 loops each)\n"
     ]
    }
   ],
   "source": [
    "%timeit s_reduce_sum[nB,nTPB](d_array_sims, d_array_suma)"
   ]
  },
  {
   "cell_type": "code",
   "execution_count": 9,
   "id": "6b6f9c84-b979-4d4f-948a-0abf7ca896bf",
   "metadata": {
    "tags": []
   },
   "outputs": [],
   "source": [
    "########## VARIABLES #########\n",
    "n = 2000  # numero de viruses\n",
    "n_sim = 2000  # numero de simulaciones\n",
    "p = 0.5 # prob\n",
    "\n",
    "####### Preparar las simulaciones ######\n",
    "array_sims = np.zeros((n_sim,n), dtype=np.float64)\n",
    "array_suma = np.zeros((n_sim,2), dtype=np.int64)\n",
    "cuda.select_device(0)\n",
    "#print(cuda.current_context().get_memory_info())\n",
    "threads_per_block = (32,32)\n",
    "blocks_per_grid_x = math.ceil(array_sims.shape[0] / threads_per_block[0])\n",
    "blocks_per_grid_y = math.ceil(array_sims.shape[1] / threads_per_block[1])\n",
    "blocks_per_grid = (blocks_per_grid_x, blocks_per_grid_y)\n",
    "nTPB = int(np.prod(threads_per_block))\n",
    "nB = int(np.prod(blocks_per_grid))\n",
    "rng_states = create_xoroshiro128p_states(int(np.prod(threads_per_block) * np.prod(blocks_per_grid)), seed=time.time())"
   ]
  },
  {
   "cell_type": "code",
   "execution_count": 5,
   "id": "f51a440a-51fc-476b-9e55-ad162823cf2e",
   "metadata": {
    "tags": []
   },
   "outputs": [],
   "source": [
    "d_array_sims = cuda.to_device(array_sims)\n",
    "d_array_suma = cuda.to_device(array_suma)"
   ]
  },
  {
   "cell_type": "code",
   "execution_count": 6,
   "id": "2678b4aa-1778-43bf-a36c-834281a88a57",
   "metadata": {
    "tags": []
   },
   "outputs": [
    {
     "name": "stdout",
     "output_type": "stream",
     "text": [
      "895 µs ± 271 ns per loop (mean ± std. dev. of 7 runs, 10,000 loops each)\n"
     ]
    }
   ],
   "source": [
    "%timeit kernel_computeN[blocks_per_grid, threads_per_block](d_array_sims,p, rng_states)"
   ]
  },
  {
   "cell_type": "code",
   "execution_count": 10,
   "id": "b768108c-4564-4d7f-aceb-f135e6db4759",
   "metadata": {
    "tags": []
   },
   "outputs": [],
   "source": [
    "kernel_computeN[blocks_per_grid, threads_per_block](d_array_sims,p,rng_states)"
   ]
  },
  {
   "cell_type": "code",
   "execution_count": 11,
   "id": "1431b530-3b85-4f1f-86f0-9ec389f79ec4",
   "metadata": {
    "tags": []
   },
   "outputs": [
    {
     "name": "stdout",
     "output_type": "stream",
     "text": [
      "1.58 ms ± 55.6 ns per loop (mean ± std. dev. of 7 runs, 10,000 loops each)\n"
     ]
    }
   ],
   "source": [
    "%timeit s_reduce_sum[nB,nTPB](d_array_sims, d_array_suma)"
   ]
  },
  {
   "cell_type": "code",
   "execution_count": 6,
   "id": "a021be0a-4d97-4251-bc3e-195c7c1bdabb",
   "metadata": {
    "tags": []
   },
   "outputs": [
    {
     "name": "stdout",
     "output_type": "stream",
     "text": [
      "1024\n",
      "7875\n"
     ]
    }
   ],
   "source": [
    "########## VARIABLES #########\n",
    "n = 2000  # numero de viruses\n",
    "n_sim = 4000  # numero de simulaciones\n",
    "p = 0.5 # prob\n",
    "\n",
    "####### Preparar las simulaciones ######\n",
    "array_sims = np.zeros((n_sim,n), dtype=np.float64)\n",
    "array_suma = np.zeros((n_sim,2), dtype=np.int64)\n",
    "cuda.select_device(0)\n",
    "#print(cuda.current_context().get_memory_info())\n",
    "threads_per_block = (32,32)\n",
    "blocks_per_grid_x = math.ceil(array_sims.shape[0] / threads_per_block[0])\n",
    "blocks_per_grid_y = math.ceil(array_sims.shape[1] / threads_per_block[1])\n",
    "blocks_per_grid = (blocks_per_grid_x, blocks_per_grid_y)\n",
    "nTPB = int(np.prod(threads_per_block))\n",
    "nB = int(np.prod(blocks_per_grid))\n",
    "print(nTPB)\n",
    "print(nB)\n",
    "rng_states = create_xoroshiro128p_states(int(np.prod(threads_per_block) * np.prod(blocks_per_grid)), seed=time.time())"
   ]
  },
  {
   "cell_type": "code",
   "execution_count": 7,
   "id": "16c7eced-c725-4979-a94b-99e837ab43bb",
   "metadata": {
    "tags": []
   },
   "outputs": [],
   "source": [
    "d_array_sims = cuda.to_device(array_sims)\n",
    "d_array_suma = cuda.to_device(array_suma)"
   ]
  },
  {
   "cell_type": "code",
   "execution_count": 8,
   "id": "8c8cc051-b733-4c62-a33e-37211895a435",
   "metadata": {
    "tags": []
   },
   "outputs": [
    {
     "name": "stdout",
     "output_type": "stream",
     "text": [
      "1.75 ms ± 1.95 µs per loop (mean ± std. dev. of 7 runs, 10,000 loops each)\n"
     ]
    }
   ],
   "source": [
    "%timeit kernel_computeN[blocks_per_grid, threads_per_block](d_array_sims,p, rng_states)"
   ]
  },
  {
   "cell_type": "code",
   "execution_count": 11,
   "id": "8b2fe7d2-9a26-44b9-b323-e4a42ec99c19",
   "metadata": {
    "tags": []
   },
   "outputs": [],
   "source": [
    "kernel_computeN[blocks_per_grid, threads_per_block](d_array_sims,p,rng_states)"
   ]
  },
  {
   "cell_type": "code",
   "execution_count": 12,
   "id": "fc838701-13d1-42ca-8816-66d648cb38e6",
   "metadata": {
    "tags": []
   },
   "outputs": [
    {
     "name": "stdout",
     "output_type": "stream",
     "text": [
      "1.61 ms ± 54.3 ns per loop (mean ± std. dev. of 7 runs, 10,000 loops each)\n"
     ]
    }
   ],
   "source": [
    "%timeit s_reduce_sum[nB,nTPB](d_array_sims, d_array_suma)"
   ]
  },
  {
   "cell_type": "markdown",
   "id": "24681918-692e-4040-a502-5d6a34be3831",
   "metadata": {},
   "source": [
    "# RTX 3090 <a name=\"3090\"></a>"
   ]
  },
  {
   "cell_type": "code",
   "execution_count": 20,
   "id": "6ba3bb84-20f7-4616-8bc0-2c19b5022cbc",
   "metadata": {
    "tags": []
   },
   "outputs": [],
   "source": [
    "########## VARIABLES #########\n",
    "n = 10000  # numero de viruses\n",
    "n_sim = 10000  # numero de simulaciones\n",
    "p = 0.5 # prob\n",
    "\n",
    "####### Preparar las simulaciones ######\n",
    "array_sims = np.zeros((n_sim,n), dtype=np.float64)\n",
    "array_suma = np.zeros((n_sim,2), dtype=np.int64)\n",
    "cuda.select_device(1)\n",
    "#print(cuda.current_context().get_memory_info())\n",
    "threads_per_block = (32,32)\n",
    "blocks_per_grid_x = math.ceil(array_sims.shape[0] / threads_per_block[0])\n",
    "blocks_per_grid_y = math.ceil(array_sims.shape[1] / threads_per_block[1])\n",
    "blocks_per_grid = (blocks_per_grid_x, blocks_per_grid_y)\n",
    "\n",
    "rng_states = create_xoroshiro128p_states(int(np.prod(threads_per_block) * np.prod(blocks_per_grid)), seed=time.time())"
   ]
  },
  {
   "cell_type": "code",
   "execution_count": 21,
   "id": "f91083d8-54bd-41d9-8945-4b066b31e2e5",
   "metadata": {
    "tags": []
   },
   "outputs": [],
   "source": [
    "d_array_sims = cuda.to_device(array_sims)\n",
    "d_array_suma = cuda.to_device(array_suma)"
   ]
  },
  {
   "cell_type": "code",
   "execution_count": 11,
   "id": "aec399d9-86b7-4bc4-8ab9-ca9cb45f3903",
   "metadata": {
    "tags": []
   },
   "outputs": [
    {
     "name": "stdout",
     "output_type": "stream",
     "text": [
      "16.3 ms ± 88.5 µs per loop (mean ± std. dev. of 7 runs, 1,000 loops each)\n"
     ]
    }
   ],
   "source": [
    "%timeit kernel_computeN[blocks_per_grid, threads_per_block](d_array_sims,p, rng_states)"
   ]
  },
  {
   "cell_type": "code",
   "execution_count": 22,
   "id": "bda70430-ea5d-472b-9f05-a9ac239fa510",
   "metadata": {
    "tags": []
   },
   "outputs": [],
   "source": [
    "kernel_computeN[blocks_per_grid, threads_per_block](d_array_sims,p,rng_states)\n",
    "blocks = math.ceil(array_sims.shape[0]/1024)"
   ]
  },
  {
   "cell_type": "code",
   "execution_count": 23,
   "id": "987c5be6-ab5a-4f25-837c-1ec31e80d4d4",
   "metadata": {
    "tags": []
   },
   "outputs": [
    {
     "name": "stdout",
     "output_type": "stream",
     "text": [
      "5.29 ms ± 18.1 µs per loop (mean ± std. dev. of 7 runs, 1,000 loops each)\n"
     ]
    }
   ],
   "source": [
    "%timeit s_reduce_sum[nB,nTPB](d_array_sims, d_array_suma)"
   ]
  },
  {
   "cell_type": "code",
   "execution_count": 14,
   "id": "2cde36ca-4ade-45c8-9f33-d6f8f3c473e6",
   "metadata": {},
   "outputs": [],
   "source": [
    "########## VARIABLES #########\n",
    "n = 5000  # numero de viruses\n",
    "n_sim = 5000  # numero de simulaciones\n",
    "p = 0.5 # prob\n",
    "\n",
    "####### Preparar las simulaciones ######\n",
    "array_sims = np.zeros((n_sim,n), dtype=np.float64)\n",
    "array_suma = np.zeros((n_sim,2), dtype=np.int64)\n",
    "cuda.select_device(1)\n",
    "#print(cuda.current_context().get_memory_info())\n",
    "threads_per_block = (32,32)\n",
    "blocks_per_grid_x = math.ceil(array_sims.shape[0] / threads_per_block[0])\n",
    "blocks_per_grid_y = math.ceil(array_sims.shape[1] / threads_per_block[1])\n",
    "blocks_per_grid = (blocks_per_grid_x, blocks_per_grid_y)\n",
    "\n",
    "rng_states = create_xoroshiro128p_states(int(np.prod(threads_per_block) * np.prod(blocks_per_grid)), seed=time.time())"
   ]
  },
  {
   "cell_type": "code",
   "execution_count": 15,
   "id": "0742fc2a-c645-45c0-b13e-55fa862d835d",
   "metadata": {},
   "outputs": [],
   "source": [
    "d_array_sims = cuda.to_device(array_sims)\n",
    "d_array_suma = cuda.to_device(array_suma)"
   ]
  },
  {
   "cell_type": "code",
   "execution_count": 16,
   "id": "ae99b751-02c5-4f5d-b3a2-0e853f185d48",
   "metadata": {},
   "outputs": [
    {
     "name": "stdout",
     "output_type": "stream",
     "text": [
      "4.03 ms ± 5.08 µs per loop (mean ± std. dev. of 7 runs, 1,000 loops each)\n"
     ]
    }
   ],
   "source": [
    "%timeit kernel_computeN[blocks_per_grid, threads_per_block](d_array_sims,p, rng_states)"
   ]
  },
  {
   "cell_type": "code",
   "execution_count": 18,
   "id": "7d0d9891-30b9-4916-8631-3b5535b9bdcb",
   "metadata": {
    "tags": []
   },
   "outputs": [],
   "source": [
    "kernel_computeN[blocks_per_grid, threads_per_block](d_array_sims,p,rng_states)\n",
    "blocks = math.ceil(array_sims.shape[0]/1024)"
   ]
  },
  {
   "cell_type": "code",
   "execution_count": 19,
   "id": "1fd1a638-882b-4fcd-9b24-a065c7115276",
   "metadata": {
    "tags": []
   },
   "outputs": [
    {
     "name": "stdout",
     "output_type": "stream",
     "text": [
      "2.07 ms ± 5.6 µs per loop (mean ± std. dev. of 7 runs, 10,000 loops each)\n"
     ]
    }
   ],
   "source": [
    "%timeit s_reduce_sum[nB,nTPB](d_array_sims, d_array_suma)"
   ]
  },
  {
   "cell_type": "code",
   "execution_count": 20,
   "id": "1a15b83d-6f2b-43de-8360-4904a2cc130a",
   "metadata": {
    "tags": []
   },
   "outputs": [
    {
     "name": "stdout",
     "output_type": "stream",
     "text": [
      "1024\n",
      "3969\n"
     ]
    }
   ],
   "source": [
    "########## VARIABLES #########\n",
    "n = 2000  # numero de viruses\n",
    "n_sim = 4000  # numero de simulaciones\n",
    "p = 0.5 # prob\n",
    "\n",
    "####### Preparar las simulaciones ######\n",
    "array_sims = np.zeros((n_sim,n), dtype=np.float64)\n",
    "array_suma = np.zeros((n_sim,2), dtype=np.int64)\n",
    "cuda.select_device(1)\n",
    "#print(cuda.current_context().get_memory_info())\n",
    "threads_per_block = (32,32)\n",
    "blocks_per_grid_x = math.ceil(array_sims.shape[0] / threads_per_block[0])\n",
    "blocks_per_grid_y = math.ceil(array_sims.shape[1] / threads_per_block[1])\n",
    "blocks_per_grid = (blocks_per_grid_x, blocks_per_grid_y)\n",
    "print(nTPB)\n",
    "print(nB)\n",
    "rng_states = create_xoroshiro128p_states(int(np.prod(threads_per_block) * np.prod(blocks_per_grid)), seed=time.time())"
   ]
  },
  {
   "cell_type": "code",
   "execution_count": 21,
   "id": "51f4c7bb-47a8-4427-aa24-e8f2e4132085",
   "metadata": {
    "tags": []
   },
   "outputs": [],
   "source": [
    "d_array_sims = cuda.to_device(array_sims)\n",
    "d_array_suma = cuda.to_device(array_suma)"
   ]
  },
  {
   "cell_type": "code",
   "execution_count": 22,
   "id": "2462e007-4c25-4f85-8036-7939693b8d17",
   "metadata": {
    "tags": []
   },
   "outputs": [
    {
     "name": "stdout",
     "output_type": "stream",
     "text": [
      "1.25 ms ± 6.45 µs per loop (mean ± std. dev. of 7 runs, 10,000 loops each)\n"
     ]
    }
   ],
   "source": [
    "%timeit kernel_computeN[blocks_per_grid, threads_per_block](d_array_sims,p, rng_states)"
   ]
  },
  {
   "cell_type": "code",
   "execution_count": 25,
   "id": "111cd7db-3a31-49ed-83a3-f93327b511aa",
   "metadata": {
    "tags": []
   },
   "outputs": [],
   "source": [
    "kernel_computeN[blocks_per_grid, threads_per_block](d_array_sims,p,rng_states)"
   ]
  },
  {
   "cell_type": "code",
   "execution_count": 26,
   "id": "6fb74abb-21dd-44a2-8991-7418ec186c9b",
   "metadata": {
    "tags": []
   },
   "outputs": [
    {
     "name": "stdout",
     "output_type": "stream",
     "text": [
      "1.07 ms ± 3.12 ns per loop (mean ± std. dev. of 7 runs, 10,000 loops each)\n"
     ]
    }
   ],
   "source": [
    "%timeit s_reduce_sum[nB,nTPB](d_array_sims, d_array_suma)"
   ]
  },
  {
   "cell_type": "code",
   "execution_count": 17,
   "id": "922bc8a7-e44f-4f25-919f-72b75af102b4",
   "metadata": {
    "tags": []
   },
   "outputs": [
    {
     "name": "stdout",
     "output_type": "stream",
     "text": [
      "1024\n",
      "16\n"
     ]
    }
   ],
   "source": [
    "########## VARIABLES #########\n",
    "n = 2000  # numero de viruses\n",
    "n_sim = 2000  # numero de simulaciones\n",
    "p = 0.5 # prob\n",
    "\n",
    "####### Preparar las simulaciones ######\n",
    "array_sims = np.zeros((n_sim,n), dtype=np.float64)\n",
    "array_suma = np.zeros((n_sim,2), dtype=np.int64)\n",
    "cuda.select_device(1)\n",
    "#print(cuda.current_context().get_memory_info())\n",
    "threads_per_block = (32,32)\n",
    "blocks_per_grid_x = math.ceil(array_sims.shape[0] / threads_per_block[0])\n",
    "blocks_per_grid_y = math.ceil(array_sims.shape[1] / threads_per_block[1])\n",
    "blocks_per_grid = (blocks_per_grid_x, blocks_per_grid_y)\n",
    "print(nTPB)\n",
    "print(nB)\n",
    "rng_states = create_xoroshiro128p_states(int(np.prod(threads_per_block) * np.prod(blocks_per_grid)), seed=time.time())"
   ]
  },
  {
   "cell_type": "code",
   "execution_count": 9,
   "id": "832878e3-5e83-4b12-a185-aad44ebe73cf",
   "metadata": {
    "tags": []
   },
   "outputs": [],
   "source": [
    "d_array_sims = cuda.to_device(array_sims)\n",
    "d_array_suma = cuda.to_device(array_suma)"
   ]
  },
  {
   "cell_type": "code",
   "execution_count": 10,
   "id": "a3e94312-f295-453d-8c8c-3af5d9f7ced7",
   "metadata": {},
   "outputs": [
    {
     "name": "stdout",
     "output_type": "stream",
     "text": [
      "621 µs ± 1.99 µs per loop (mean ± std. dev. of 7 runs, 10,000 loops each)\n"
     ]
    }
   ],
   "source": [
    "%timeit kernel_computeN[blocks_per_grid, threads_per_block](d_array_sims,p, rng_states)"
   ]
  },
  {
   "cell_type": "code",
   "execution_count": 13,
   "id": "2e40c452-0b0d-45e4-944d-27e796979a0d",
   "metadata": {
    "tags": []
   },
   "outputs": [],
   "source": [
    "kernel_computeN[blocks_per_grid, threads_per_block](d_array_sims,p,rng_states)"
   ]
  },
  {
   "cell_type": "code",
   "execution_count": 14,
   "id": "096b8ad3-8ac7-412d-8405-a8ce701f7a98",
   "metadata": {
    "tags": []
   },
   "outputs": [
    {
     "name": "stdout",
     "output_type": "stream",
     "text": [
      "1.06 ms ± 2.01 ns per loop (mean ± std. dev. of 7 runs, 10,000 loops each)\n"
     ]
    }
   ],
   "source": [
    "%timeit s_reduce_sum[nB,nTPB](d_array_sims, d_array_suma)"
   ]
  },
  {
   "cell_type": "markdown",
   "id": "26f8156b-36bd-49ee-9341-0653e0a331e9",
   "metadata": {},
   "source": [
    "## CPU JIT <a name=\"jit\"></a>"
   ]
  },
  {
   "cell_type": "code",
   "execution_count": 4,
   "id": "2ca97d41-2578-4921-bdc8-ffa8264aa96e",
   "metadata": {
    "tags": []
   },
   "outputs": [],
   "source": [
    "@njit\n",
    "def cpu_simulaciones(n,p,array_sims):\n",
    "    \n",
    "    cdf = np.array([p,(p+(1-p))])\n",
    "    \n",
    "    for i in range(array_sims.shape[0]):\n",
    "        for j in range(n):\n",
    "            array_sims[i][0] -= 1\n",
    "            rnd = random.random()\n",
    "            index = 0\n",
    "            while rnd > cdf[index]:\n",
    "                index += 1\n",
    "            array_sims[i][index+1] += 1\n",
    "    \n",
    "    return array_sims"
   ]
  },
  {
   "cell_type": "code",
   "execution_count": 5,
   "id": "8332f538-8890-4d3a-8699-d02aded62f4f",
   "metadata": {
    "tags": []
   },
   "outputs": [],
   "source": [
    "n_sims = 10000  # numero de computaciones de maquinas virus\n",
    "\n",
    "n = 10000  #número de virus\n",
    "p = 0.5  #probabilidad\n",
    "\n",
    "array_sims = np.zeros((n_sims,3), dtype=np.float64)\n",
    "array_sims[:,0] = n"
   ]
  },
  {
   "cell_type": "code",
   "execution_count": 6,
   "id": "d3424dad-422a-4ae5-9d5c-dcaf31d07810",
   "metadata": {
    "tags": []
   },
   "outputs": [
    {
     "name": "stdout",
     "output_type": "stream",
     "text": [
      "950 ms ± 3.43 ms per loop (mean ± std. dev. of 7 runs, 1 loop each)\n"
     ]
    }
   ],
   "source": [
    "%timeit cpu_simulaciones(n,p,array_sims)"
   ]
  },
  {
   "cell_type": "code",
   "execution_count": 7,
   "id": "2ae7ecf6-4a56-4f1c-995e-ac13a7aa51e4",
   "metadata": {
    "tags": []
   },
   "outputs": [],
   "source": [
    "n_sims = 5000  # numero de computaciones de maquinas virus\n",
    "\n",
    "n = 5000  #número de virus\n",
    "p = 0.5  #probabilidad\n",
    "\n",
    "array_sims = np.zeros((n_sims,3), dtype=np.float64)\n",
    "array_sims[:,0] = n"
   ]
  },
  {
   "cell_type": "code",
   "execution_count": 8,
   "id": "df593841-5ffe-4693-857e-2412dc3a5612",
   "metadata": {
    "tags": []
   },
   "outputs": [
    {
     "name": "stdout",
     "output_type": "stream",
     "text": [
      "242 ms ± 1.81 ms per loop (mean ± std. dev. of 7 runs, 1 loop each)\n"
     ]
    }
   ],
   "source": [
    "%timeit cpu_simulaciones(n,p,array_sims)"
   ]
  },
  {
   "cell_type": "code",
   "execution_count": 9,
   "id": "bd35ad54-2521-4e78-8fa0-f330c7704649",
   "metadata": {
    "tags": []
   },
   "outputs": [],
   "source": [
    "n_sims = 2000  # numero de computaciones de maquinas virus\n",
    "\n",
    "n = 4000  #número de virus\n",
    "p = 0.5  #probabilidad\n",
    "\n",
    "array_sims = np.zeros((n_sims,3), dtype=np.float64)\n",
    "array_sims[:,0] = n"
   ]
  },
  {
   "cell_type": "code",
   "execution_count": 10,
   "id": "d18f9bc8-52d2-4dad-bdeb-e2acc4af7f7b",
   "metadata": {
    "tags": []
   },
   "outputs": [
    {
     "name": "stdout",
     "output_type": "stream",
     "text": [
      "75.2 ms ± 569 µs per loop (mean ± std. dev. of 7 runs, 10 loops each)\n"
     ]
    }
   ],
   "source": [
    "%timeit cpu_simulaciones(n,p,array_sims)"
   ]
  },
  {
   "cell_type": "code",
   "execution_count": 11,
   "id": "5850ce42-024d-4770-97bb-1fc19d9cb296",
   "metadata": {
    "tags": []
   },
   "outputs": [],
   "source": [
    "n_sims = 2000  # numero de computaciones de maquinas virus\n",
    "n = 2000  #número de virus\n",
    "p = 0.5  #probabilidad\n",
    "\n",
    "array_sims = np.zeros((n_sims,3), dtype=np.float64)\n",
    "array_sims[:,0] = n"
   ]
  },
  {
   "cell_type": "code",
   "execution_count": 12,
   "id": "811e4c61-04a1-4044-86dd-75f569e153b3",
   "metadata": {
    "tags": []
   },
   "outputs": [
    {
     "name": "stdout",
     "output_type": "stream",
     "text": [
      "38.1 ms ± 46.5 µs per loop (mean ± std. dev. of 7 runs, 10 loops each)\n"
     ]
    }
   ],
   "source": [
    "%timeit cpu_simulaciones(n,p,array_sims)"
   ]
  },
  {
   "cell_type": "markdown",
   "id": "c658ed8a-8b2e-4974-88f4-33e5b3585124",
   "metadata": {},
   "source": [
    "## CPU <a name=\"cpunj\"></a>"
   ]
  },
  {
   "cell_type": "code",
   "execution_count": 8,
   "id": "d84b6c8c-2f2c-4619-864d-ee37663ca3da",
   "metadata": {
    "tags": []
   },
   "outputs": [],
   "source": [
    "def cpu_simulaciones_sinJIT(n_sims, n, p):\n",
    "    i = 0\n",
    "    vm = basicprobabilistic(n, p)\n",
    "    l_prob = [[0,0]]\n",
    "    while i < n_sims:\n",
    "        (uh, lista_compute) = vm.compute()\n",
    "        p1 = lista_compute[1] \n",
    "        p2 = lista_compute[2] \n",
    "        l_prob.append([p1, p2])\n",
    "        i += 1\n",
    "        vm.restart()\n",
    "    l_prob.pop(0)\n",
    "    return l_prob"
   ]
  },
  {
   "cell_type": "code",
   "execution_count": 9,
   "id": "517efb33-e48c-45a2-9251-8704cbd93112",
   "metadata": {
    "tags": []
   },
   "outputs": [
    {
     "name": "stdout",
     "output_type": "stream",
     "text": [
      "9.79 s ± 33.2 ms per loop (mean ± std. dev. of 7 runs, 1 loop each)\n"
     ]
    }
   ],
   "source": [
    "n_sims = 2000  # numero de computaciones de maquinas virus\n",
    "n = 2000  #número de virus\n",
    "p = 0.5  #probabilidad\n",
    "%timeit cpu_simulaciones_sinJIT(n_sims,n,p)  "
   ]
  },
  {
   "cell_type": "code",
   "execution_count": 10,
   "id": "51ce057f-8b12-400a-9e74-ea936a5ccbfc",
   "metadata": {
    "tags": []
   },
   "outputs": [
    {
     "name": "stdout",
     "output_type": "stream",
     "text": [
      "19.8 s ± 76.1 ms per loop (mean ± std. dev. of 7 runs, 1 loop each)\n"
     ]
    }
   ],
   "source": [
    "n_sims = 2000  # numero de computaciones de maquinas virus\n",
    "\n",
    "n = 4000  #número de virus\n",
    "p = 0.5  #probabilidad\n",
    "%timeit cpu_simulaciones_sinJIT(n_sims,n,p)  "
   ]
  },
  {
   "cell_type": "code",
   "execution_count": 11,
   "id": "677f73ae-83f1-4593-8f6f-e9a777878c0f",
   "metadata": {
    "tags": []
   },
   "outputs": [
    {
     "name": "stdout",
     "output_type": "stream",
     "text": [
      "1min 1s ± 365 ms per loop (mean ± std. dev. of 7 runs, 1 loop each)\n"
     ]
    }
   ],
   "source": [
    "n_sims = 5000  # numero de computaciones de maquinas virus\n",
    "\n",
    "n = 5000  #número de virus\n",
    "p = 0.5  #probabilidad\n",
    "%timeit cpu_simulaciones_sinJIT(n_sims,n,p) "
   ]
  },
  {
   "cell_type": "code",
   "execution_count": 12,
   "id": "20986d3b-7446-4bf9-af7b-4d44e0ecbe92",
   "metadata": {
    "tags": []
   },
   "outputs": [
    {
     "name": "stdout",
     "output_type": "stream",
     "text": [
      "4min 2s ± 612 ms per loop (mean ± std. dev. of 7 runs, 1 loop each)\n"
     ]
    }
   ],
   "source": [
    "n_sims = 10000  # numero de computaciones de maquinas virus\n",
    "\n",
    "n = 10000  #número de virus\n",
    "p = 0.5  #probabilidad\n",
    "%timeit cpu_simulaciones_sinJIT(n_sims,n,p) "
   ]
  },
  {
   "cell_type": "code",
   "execution_count": null,
   "id": "59c3b6b5-88a0-4ee2-8dcc-e950a8d410ff",
   "metadata": {},
   "outputs": [],
   "source": []
  },
  {
   "cell_type": "code",
   "execution_count": null,
   "id": "3258eaf2-1e5f-4297-bb2f-a5554dd40330",
   "metadata": {},
   "outputs": [],
   "source": []
  },
  {
   "cell_type": "code",
   "execution_count": null,
   "id": "5a6f4c4d-f98d-4ebb-b390-b2f3a7bf945f",
   "metadata": {},
   "outputs": [],
   "source": []
  },
  {
   "cell_type": "code",
   "execution_count": null,
   "id": "69a9d72e-5c03-4467-8e04-d0b08e5dd3c0",
   "metadata": {},
   "outputs": [],
   "source": []
  },
  {
   "cell_type": "code",
   "execution_count": null,
   "id": "4ab9956a-220f-4af6-b648-b1a40b68c2ad",
   "metadata": {},
   "outputs": [],
   "source": []
  },
  {
   "cell_type": "code",
   "execution_count": null,
   "id": "6b13ac12-8b03-4928-b3d8-e86ebca39b35",
   "metadata": {},
   "outputs": [],
   "source": []
  },
  {
   "cell_type": "markdown",
   "id": "145847d9-9f1d-4591-a67e-f26497039a94",
   "metadata": {},
   "source": [
    "# SPSUMA <a name=\"spsuma\"></a>"
   ]
  },
  {
   "cell_type": "code",
   "execution_count": 3,
   "id": "5b00a64a-2415-4e4d-97fc-c177f95fc834",
   "metadata": {
    "tags": []
   },
   "outputs": [],
   "source": [
    "@cuda.jit\n",
    "def kernel_compute(array_comp, initial_instructions):\n",
    "    x = cuda.threadIdx.x\n",
    "    columna = cuda.blockDim.x * cuda.blockIdx.x + x\n",
    "    \n",
    "    # recorrer la matriz a mano, paralelización por cada step.\n",
    "    for i in range(1, array_comp.shape[0]):\n",
    "        if(array_comp[i-1][0] != 0 and array_comp[i-1][1] != 0):\n",
    "            if (columna < initial_instructions.shape[0]):   \n",
    "                array_comp[i][columna] = array_comp[i-1][columna] - 1\n",
    "                array_comp[i][2] = array_comp[i-1][2] + initial_instructions.shape[0] # sin pesos, voy a sumar la cantidad de instrucciones que se activen\n",
    "                array_comp[i][3] = 2\n",
    "        elif(array_comp[i-1][0] == 0 and array_comp[i-1][1] == 0):\n",
    "            sol = array_comp[i-1][2]\n",
    "            if (columna < array_comp.shape[0] - i):\n",
    "                array_comp[columna + i][2] = sol\n",
    "                array_comp[columna + i][3] = -1\n",
    "        else:\n",
    "            # mono instrucción por step:\n",
    "            if (array_comp[i-1][0] == 0 and array_comp[i-1][1] != 0):\n",
    "                array_comp[i][1] = array_comp[i-1][1] - 1\n",
    "                array_comp[i][2] = array_comp[i-1][2] + 1\n",
    "                array_comp[i][3] = 1\n",
    "            \n",
    "            elif(array_comp[i-1][1] == 0 and array_comp[i-1][0] != 0):\n",
    "                array_comp[i][0] = array_comp[i-1][0] - 1\n",
    "                array_comp[i][2] = array_comp[i-1][2] + 1\n",
    "                array_comp[i][3] = 0\n",
    "        cuda.syncthreads()"
   ]
  },
  {
   "cell_type": "markdown",
   "id": "1fdab850-ac8d-4de9-b13c-bbd19efca703",
   "metadata": {},
   "source": [
    "## RTX 2080 <a name=\"rtx\"></a>"
   ]
  },
  {
   "cell_type": "code",
   "execution_count": 34,
   "id": "af781eb7-cfb6-468c-8352-abfde11830cd",
   "metadata": {
    "tags": []
   },
   "outputs": [],
   "source": [
    "n1 = 50\n",
    "n2 = 50\n",
    "n_steps = 100\n",
    "initial_instructions = np.array([0, 1]) \n",
    "array_comp = np.zeros((n_steps,4), dtype=np.int64)\n",
    "array_comp[0,0] = n1\n",
    "array_comp[0,1] = n2\n",
    "cuda.select_device(0)\n",
    "threads_per_block = 1024\n",
    "blocks_per_grid2 = ((initial_instructions.shape[0] + (threads_per_block - 1)) // threads_per_block, (3 + threads_per_block -1) // threads_per_block)\n",
    "d_array_comp = cuda.to_device(array_comp)\n",
    "d_initial_instructions = cuda.to_device(initial_instructions)"
   ]
  },
  {
   "cell_type": "code",
   "execution_count": 35,
   "id": "312aaca5-9dbc-4d38-a8c8-eee732264173",
   "metadata": {
    "tags": []
   },
   "outputs": [
    {
     "name": "stdout",
     "output_type": "stream",
     "text": [
      "45.6 µs ± 0.363 ns per loop (mean ± std. dev. of 7 runs, 10,000 loops each)\n"
     ]
    }
   ],
   "source": [
    "%timeit kernel_compute[blocks_per_grid2, threads_per_block](d_array_comp, d_initial_instructions)"
   ]
  },
  {
   "cell_type": "code",
   "execution_count": 36,
   "id": "b766c4f7-3147-4e24-90f2-c2f1fcea45be",
   "metadata": {
    "tags": []
   },
   "outputs": [],
   "source": [
    "n1 = 100\n",
    "n2 = 100\n",
    "n_steps = 200\n",
    "initial_instructions = np.array([0, 1]) \n",
    "array_comp = np.zeros((n_steps,4), dtype=np.int64)\n",
    "array_comp[0,0] = n1\n",
    "array_comp[0,1] = n2\n",
    "cuda.select_device(0)\n",
    "threads_per_block = 1024\n",
    "blocks_per_grid2 = ((initial_instructions.shape[0] + (threads_per_block - 1)) // threads_per_block, (3 + threads_per_block -1) // threads_per_block)\n",
    "d_array_comp = cuda.to_device(array_comp)\n",
    "d_initial_instructions = cuda.to_device(initial_instructions)"
   ]
  },
  {
   "cell_type": "code",
   "execution_count": 37,
   "id": "36ef8e88-7156-4567-8295-485f88a905e9",
   "metadata": {
    "tags": []
   },
   "outputs": [
    {
     "name": "stdout",
     "output_type": "stream",
     "text": [
      "90.4 µs ± 5.54 ns per loop (mean ± std. dev. of 7 runs, 10,000 loops each)\n"
     ]
    }
   ],
   "source": [
    "%timeit kernel_compute[blocks_per_grid2, threads_per_block](d_array_comp, d_initial_instructions)"
   ]
  },
  {
   "cell_type": "code",
   "execution_count": 38,
   "id": "5b54e7d4-1777-4883-bb1c-0c5cc4a3e955",
   "metadata": {
    "tags": []
   },
   "outputs": [],
   "source": [
    "n1 = 500\n",
    "n2 = 500\n",
    "n_steps =1000\n",
    "initial_instructions = np.array([0, 1]) \n",
    "array_comp = np.zeros((n_steps,4), dtype=np.int64)\n",
    "array_comp[0,0] = n1\n",
    "array_comp[0,1] = n2\n",
    "cuda.select_device(0)\n",
    "threads_per_block = 1024\n",
    "blocks_per_grid2 = ((initial_instructions.shape[0] + (threads_per_block - 1)) // threads_per_block, (3 + threads_per_block -1) // threads_per_block)\n",
    "d_array_comp = cuda.to_device(array_comp)\n",
    "d_initial_instructions = cuda.to_device(initial_instructions)"
   ]
  },
  {
   "cell_type": "code",
   "execution_count": 39,
   "id": "cba223e2-51fe-4752-ad36-4e221534a95f",
   "metadata": {
    "tags": []
   },
   "outputs": [
    {
     "name": "stdout",
     "output_type": "stream",
     "text": [
      "542 µs ± 7.51 ns per loop (mean ± std. dev. of 7 runs, 10,000 loops each)\n"
     ]
    }
   ],
   "source": [
    "%timeit kernel_compute[blocks_per_grid2, threads_per_block](d_array_comp, d_initial_instructions)"
   ]
  },
  {
   "cell_type": "code",
   "execution_count": 40,
   "id": "e8f23811-0003-4754-88b5-13838f9fedd3",
   "metadata": {
    "tags": []
   },
   "outputs": [],
   "source": [
    "n1 = 2000\n",
    "n2 = 2000\n",
    "n_steps = 4000\n",
    "initial_instructions = np.array([0, 1]) \n",
    "array_comp = np.zeros((n_steps,4), dtype=np.int64)\n",
    "array_comp[0,0] = n1\n",
    "array_comp[0,1] = n2\n",
    "cuda.select_device(0)\n",
    "threads_per_block = 1024\n",
    "blocks_per_grid2 = ((initial_instructions.shape[0] + (threads_per_block - 1)) // threads_per_block, (3 + threads_per_block -1) // threads_per_block)\n",
    "d_array_comp = cuda.to_device(array_comp)\n",
    "d_initial_instructions = cuda.to_device(initial_instructions)"
   ]
  },
  {
   "cell_type": "code",
   "execution_count": 41,
   "id": "8bd65445-70b1-407c-9677-44723ccd2469",
   "metadata": {
    "tags": []
   },
   "outputs": [
    {
     "name": "stdout",
     "output_type": "stream",
     "text": [
      "3.46 ms ± 462 ns per loop (mean ± std. dev. of 7 runs, 1,000 loops each)\n"
     ]
    }
   ],
   "source": [
    "%timeit kernel_compute[blocks_per_grid2, threads_per_block](d_array_comp, d_initial_instructions)"
   ]
  },
  {
   "cell_type": "code",
   "execution_count": 42,
   "id": "536b230f-bdb0-4b2a-b689-a2089623a718",
   "metadata": {
    "tags": []
   },
   "outputs": [],
   "source": [
    "n1 = 5000\n",
    "n2 = 5000\n",
    "n_steps = 10000\n",
    "initial_instructions = np.array([0, 1]) \n",
    "array_comp = np.zeros((n_steps,4), dtype=np.int64)\n",
    "array_comp[0,0] = n1\n",
    "array_comp[0,1] = n2\n",
    "cuda.select_device(0)\n",
    "threads_per_block = 1024\n",
    "blocks_per_grid2 = ((initial_instructions.shape[0] + (threads_per_block - 1)) // threads_per_block, (3 + threads_per_block -1) // threads_per_block)\n",
    "d_array_comp = cuda.to_device(array_comp)\n",
    "d_initial_instructions = cuda.to_device(initial_instructions)"
   ]
  },
  {
   "cell_type": "code",
   "execution_count": 43,
   "id": "e827fffb-569b-4ed4-8a81-43b2a437209b",
   "metadata": {
    "tags": []
   },
   "outputs": [
    {
     "name": "stdout",
     "output_type": "stream",
     "text": [
      "9.72 ms ± 35.5 µs per loop (mean ± std. dev. of 7 runs, 1,000 loops each)\n"
     ]
    }
   ],
   "source": [
    "%timeit kernel_compute[blocks_per_grid2, threads_per_block](d_array_comp, d_initial_instructions)"
   ]
  },
  {
   "cell_type": "code",
   "execution_count": 44,
   "id": "f2c3e682-2b51-4e4f-bc0f-74acb94930fa",
   "metadata": {
    "tags": []
   },
   "outputs": [],
   "source": [
    "n1 = 10000\n",
    "n2 = 10000\n",
    "n_steps = 20000\n",
    "initial_instructions = np.array([0, 1]) \n",
    "array_comp = np.zeros((n_steps,4), dtype=np.int64)\n",
    "array_comp[0,0] = n1\n",
    "array_comp[0,1] = n2\n",
    "cuda.select_device(0)\n",
    "threads_per_block = 1024\n",
    "blocks_per_grid2 = ((initial_instructions.shape[0] + (threads_per_block - 1)) // threads_per_block, (3 + threads_per_block -1) // threads_per_block)\n",
    "d_array_comp = cuda.to_device(array_comp)\n",
    "d_initial_instructions = cuda.to_device(initial_instructions)"
   ]
  },
  {
   "cell_type": "code",
   "execution_count": 45,
   "id": "2081de01-83be-4247-97d5-18794a678c4a",
   "metadata": {
    "tags": []
   },
   "outputs": [
    {
     "name": "stdout",
     "output_type": "stream",
     "text": [
      "20.2 ms ± 122 ns per loop (mean ± std. dev. of 7 runs, 1,000 loops each)\n"
     ]
    }
   ],
   "source": [
    "%timeit kernel_compute[blocks_per_grid2, threads_per_block](d_array_comp, d_initial_instructions)"
   ]
  },
  {
   "cell_type": "code",
   "execution_count": 5,
   "id": "0e3ae120-f178-4347-a8bf-31e13d5cf1f4",
   "metadata": {
    "tags": []
   },
   "outputs": [
    {
     "name": "stdout",
     "output_type": "stream",
     "text": [
      "66.9 ms ± 1.2 ms per loop (mean ± std. dev. of 7 runs, 1,000 loops each)\n"
     ]
    }
   ],
   "source": [
    "n1 = 30000\n",
    "n2 = 30000\n",
    "n_steps = 60000\n",
    "initial_instructions = np.array([0, 1]) \n",
    "array_comp = np.zeros((n_steps,4), dtype=np.int64)\n",
    "array_comp[0,0] = n1\n",
    "array_comp[0,1] = n2\n",
    "cuda.select_device(0)\n",
    "threads_per_block = 1024\n",
    "blocks_per_grid2 = math.ceil(array_comp.shape[0] / threads_per_block)\n",
    "d_array_comp = cuda.to_device(array_comp)\n",
    "d_initial_instructions = cuda.to_device(initial_instructions)\n",
    "%timeit kernel_compute[blocks_per_grid2, threads_per_block](d_array_comp, d_initial_instructions)"
   ]
  },
  {
   "cell_type": "code",
   "execution_count": 21,
   "id": "9e55f75e-dd49-4f84-b22c-5914c26000fd",
   "metadata": {
    "tags": []
   },
   "outputs": [
    {
     "name": "stdout",
     "output_type": "stream",
     "text": [
      "84.9 ms ± 3.09 ms per loop (mean ± std. dev. of 7 runs, 1,000 loops each)\n"
     ]
    }
   ],
   "source": [
    "n1 = 40000\n",
    "n2 = 40000\n",
    "n_steps = 80000\n",
    "initial_instructions = np.array([0, 1]) \n",
    "array_comp = np.zeros((n_steps,4), dtype=np.int64)\n",
    "array_comp[0,0] = n1\n",
    "array_comp[0,1] = n2\n",
    "cuda.select_device(0)\n",
    "threads_per_block = 1024\n",
    "blocks_per_grid2 = ((initial_instructions.shape[0] + (threads_per_block - 1)) // threads_per_block, (3 + threads_per_block -1) // threads_per_block)\n",
    "d_array_comp = cuda.to_device(array_comp)\n",
    "d_initial_instructions = cuda.to_device(initial_instructions)\n",
    "%timeit kernel_compute[blocks_per_grid2, threads_per_block](d_array_comp, d_initial_instructions)"
   ]
  },
  {
   "cell_type": "code",
   "execution_count": 46,
   "id": "d314173a-b57c-4905-8ec0-b5f727b1d940",
   "metadata": {
    "tags": []
   },
   "outputs": [],
   "source": [
    "n1 = 50000\n",
    "n2 = 50000\n",
    "n_steps = 100000\n",
    "initial_instructions = np.array([0, 1]) \n",
    "array_comp = np.zeros((n_steps,4), dtype=np.int64)\n",
    "array_comp[0,0] = n1\n",
    "array_comp[0,1] = n2\n",
    "cuda.select_device(0)\n",
    "threads_per_block = 1024\n",
    "blocks_per_grid2 = ((initial_instructions.shape[0] + (threads_per_block - 1)) // threads_per_block, (3 + threads_per_block -1) // threads_per_block)\n",
    "d_array_comp = cuda.to_device(array_comp)\n",
    "d_initial_instructions = cuda.to_device(initial_instructions)"
   ]
  },
  {
   "cell_type": "code",
   "execution_count": 47,
   "id": "12db9607-efd5-4afe-a66f-e9276794577a",
   "metadata": {
    "tags": []
   },
   "outputs": [
    {
     "name": "stdout",
     "output_type": "stream",
     "text": [
      "104 ms ± 272 µs per loop (mean ± std. dev. of 7 runs, 1,000 loops each)\n"
     ]
    }
   ],
   "source": [
    "%timeit kernel_compute[blocks_per_grid2, threads_per_block](d_array_comp, d_initial_instructions)"
   ]
  },
  {
   "cell_type": "markdown",
   "id": "f0679b2d-d822-4ced-ab79-de17d7183684",
   "metadata": {},
   "source": [
    "## RTX 3090 <a name=\"rtx2\"></a>"
   ]
  },
  {
   "cell_type": "code",
   "execution_count": 43,
   "id": "26457251-8b5e-44db-b414-ae1615f4bb37",
   "metadata": {
    "tags": []
   },
   "outputs": [],
   "source": [
    "n1 = 50\n",
    "n2 = 50\n",
    "n_steps = 100\n",
    "initial_instructions = np.array([0, 1]) \n",
    "array_comp = np.zeros((n_steps,4), dtype=np.int64)\n",
    "array_comp[0,0] = n1\n",
    "array_comp[0,1] = n2\n",
    "cuda.select_device(1)\n",
    "threads_per_block = 1024\n",
    "blocks_per_grid2 = ((array_comp.shape[0] + (threads_per_block - 1)) // threads_per_block, (3 + threads_per_block -1) // threads_per_block)\n",
    "d_array_comp = cuda.to_device(array_comp)\n",
    "d_initial_instructions = cuda.to_device(initial_instructions)"
   ]
  },
  {
   "cell_type": "code",
   "execution_count": 44,
   "id": "6792d416-729c-4568-92d5-ab86395ee4b2",
   "metadata": {
    "tags": []
   },
   "outputs": [
    {
     "name": "stderr",
     "output_type": "stream",
     "text": [
      "/home/servelgar/.local/lib/python3.9/site-packages/numba/cuda/dispatcher.py:539: NumbaPerformanceWarning: Grid size 100 will likely result in GPU under-utilization due to low occupancy.\n",
      "  warn(NumbaPerformanceWarning(msg))\n"
     ]
    },
    {
     "name": "stdout",
     "output_type": "stream",
     "text": [
      "33.7 µs ± 231 ns per loop (mean ± std. dev. of 7 runs, 10,000 loops each)\n"
     ]
    }
   ],
   "source": [
    "%timeit kernel_compute[blocks_per_grid2, threads_per_block](d_array_comp, d_initial_instructions)"
   ]
  },
  {
   "cell_type": "code",
   "execution_count": 6,
   "id": "04ad40f4-c46a-4c3d-bd4a-e3ffd215fa83",
   "metadata": {
    "tags": []
   },
   "outputs": [],
   "source": [
    "n1 = 100\n",
    "n2 = 100\n",
    "n_steps = 200\n",
    "initial_instructions = np.array([0, 1]) \n",
    "array_comp = np.zeros((n_steps,4), dtype=np.int64)\n",
    "array_comp[0,0] = n1\n",
    "array_comp[0,1] = n2\n",
    "cuda.select_device(1)\n",
    "threads_per_block = 1024\n",
    "blocks_per_grid2 = ((initial_instructions.shape[0] + (threads_per_block - 1)) // threads_per_block, (3 + threads_per_block -1) // threads_per_block)\n",
    "d_array_comp = cuda.to_device(array_comp)\n",
    "d_initial_instructions = cuda.to_device(initial_instructions)"
   ]
  },
  {
   "cell_type": "code",
   "execution_count": 7,
   "id": "1b9cb41e-eafa-4a07-bf28-2e4f0d8bf966",
   "metadata": {
    "tags": []
   },
   "outputs": [
    {
     "name": "stdout",
     "output_type": "stream",
     "text": [
      "79 µs ± 0.666 ns per loop (mean ± std. dev. of 7 runs, 10,000 loops each)\n"
     ]
    }
   ],
   "source": [
    "%timeit kernel_compute[blocks_per_grid2, threads_per_block](d_array_comp, d_initial_instructions)"
   ]
  },
  {
   "cell_type": "code",
   "execution_count": 8,
   "id": "e5dcd44c-7952-4b3a-b3d2-639eb7f2b9ac",
   "metadata": {
    "tags": []
   },
   "outputs": [],
   "source": [
    "n1 = 500\n",
    "n2 = 500\n",
    "n_steps =1000\n",
    "initial_instructions = np.array([0, 1]) \n",
    "array_comp = np.zeros((n_steps,4), dtype=np.int64)\n",
    "array_comp[0,0] = n1\n",
    "array_comp[0,1] = n2\n",
    "cuda.select_device(1)\n",
    "threads_per_block = 1024\n",
    "blocks_per_grid2 = ((initial_instructions.shape[0] + (threads_per_block - 1)) // threads_per_block, (3 + threads_per_block -1) // threads_per_block)\n",
    "d_array_comp = cuda.to_device(array_comp)\n",
    "d_initial_instructions = cuda.to_device(initial_instructions)"
   ]
  },
  {
   "cell_type": "code",
   "execution_count": 9,
   "id": "6a77fe72-3d43-4093-87a5-47a25afad7bf",
   "metadata": {
    "tags": []
   },
   "outputs": [
    {
     "name": "stdout",
     "output_type": "stream",
     "text": [
      "460 µs ± 938 ns per loop (mean ± std. dev. of 7 runs, 10,000 loops each)\n"
     ]
    }
   ],
   "source": [
    "%timeit kernel_compute[blocks_per_grid2, threads_per_block](d_array_comp, d_initial_instructions)"
   ]
  },
  {
   "cell_type": "code",
   "execution_count": 10,
   "id": "b57d525d-dd3d-41bc-82a5-30eb1c18a946",
   "metadata": {
    "tags": []
   },
   "outputs": [],
   "source": [
    "n1 = 2000\n",
    "n2 = 2000\n",
    "n_steps = 4000\n",
    "initial_instructions = np.array([0, 1]) \n",
    "array_comp = np.zeros((n_steps,4), dtype=np.int64)\n",
    "array_comp[0,0] = n1\n",
    "array_comp[0,1] = n2\n",
    "cuda.select_device(1)\n",
    "threads_per_block = 1024\n",
    "blocks_per_grid2 = ((initial_instructions.shape[0] + (threads_per_block - 1)) // threads_per_block, (3 + threads_per_block -1) // threads_per_block)\n",
    "d_array_comp = cuda.to_device(array_comp)\n",
    "d_initial_instructions = cuda.to_device(initial_instructions)"
   ]
  },
  {
   "cell_type": "code",
   "execution_count": 11,
   "id": "efd3d621-72c1-4f09-97e0-c52a19cd56e7",
   "metadata": {
    "tags": []
   },
   "outputs": [
    {
     "name": "stdout",
     "output_type": "stream",
     "text": [
      "3.24 ms ± 165 ns per loop (mean ± std. dev. of 7 runs, 1,000 loops each)\n"
     ]
    }
   ],
   "source": [
    "%timeit kernel_compute[blocks_per_grid2, threads_per_block](d_array_comp, d_initial_instructions)"
   ]
  },
  {
   "cell_type": "code",
   "execution_count": 12,
   "id": "4686cf2a-9746-47b5-a735-aab696ae2ece",
   "metadata": {
    "tags": []
   },
   "outputs": [],
   "source": [
    "n1 = 5000\n",
    "n2 = 5000\n",
    "n_steps = 10000\n",
    "initial_instructions = np.array([0, 1]) \n",
    "array_comp = np.zeros((n_steps,4), dtype=np.int64)\n",
    "array_comp[0,0] = n1\n",
    "array_comp[0,1] = n2\n",
    "cuda.select_device(1)\n",
    "threads_per_block = 1024\n",
    "blocks_per_grid2 = ((initial_instructions.shape[0] + (threads_per_block - 1)) // threads_per_block, (3 + threads_per_block -1) // threads_per_block)\n",
    "d_array_comp = cuda.to_device(array_comp)\n",
    "d_initial_instructions = cuda.to_device(initial_instructions)"
   ]
  },
  {
   "cell_type": "code",
   "execution_count": 13,
   "id": "1b47056a-5e1d-4270-a0e5-7310889cc98a",
   "metadata": {
    "tags": []
   },
   "outputs": [
    {
     "name": "stdout",
     "output_type": "stream",
     "text": [
      "9.07 ms ± 14 µs per loop (mean ± std. dev. of 7 runs, 1,000 loops each)\n"
     ]
    }
   ],
   "source": [
    "%timeit kernel_compute[blocks_per_grid2, threads_per_block](d_array_comp, d_initial_instructions)"
   ]
  },
  {
   "cell_type": "code",
   "execution_count": 14,
   "id": "d6ea0626-8439-49c4-8aa0-65d73b2937e4",
   "metadata": {
    "tags": []
   },
   "outputs": [],
   "source": [
    "n1 = 10000\n",
    "n2 = 10000\n",
    "n_steps = 20000\n",
    "initial_instructions = np.array([0, 1]) \n",
    "array_comp = np.zeros((n_steps,4), dtype=np.int64)\n",
    "array_comp[0,0] = n1\n",
    "array_comp[0,1] = n2\n",
    "cuda.select_device(1)\n",
    "threads_per_block = 1024\n",
    "blocks_per_grid2 = ((initial_instructions.shape[0] + (threads_per_block - 1)) // threads_per_block, (3 + threads_per_block -1) // threads_per_block)\n",
    "d_array_comp = cuda.to_device(array_comp)\n",
    "d_initial_instructions = cuda.to_device(initial_instructions)"
   ]
  },
  {
   "cell_type": "code",
   "execution_count": 15,
   "id": "16870318-1cfb-4390-a47c-d201d38fbc28",
   "metadata": {
    "tags": []
   },
   "outputs": [
    {
     "name": "stdout",
     "output_type": "stream",
     "text": [
      "18.8 ms ± 7.83 µs per loop (mean ± std. dev. of 7 runs, 1,000 loops each)\n"
     ]
    }
   ],
   "source": [
    "%timeit kernel_compute[blocks_per_grid2, threads_per_block](d_array_comp, d_initial_instructions)"
   ]
  },
  {
   "cell_type": "code",
   "execution_count": 36,
   "id": "a6e29c35-544f-4e91-975c-e51bd952c848",
   "metadata": {
    "tags": []
   },
   "outputs": [
    {
     "name": "stdout",
     "output_type": "stream",
     "text": [
      "The slowest run took 1586.51 times longer than the fastest. This could mean that an intermediate result is being cached.\n",
      "49.3 ms ± 20.1 ms per loop (mean ± std. dev. of 7 runs, 1,000 loops each)\n"
     ]
    }
   ],
   "source": [
    "n1 = 30000\n",
    "n2 = 30000\n",
    "n_steps = 60000\n",
    "initial_instructions = np.array([0, 1]) \n",
    "array_comp = np.zeros((n_steps,4), dtype=np.int64)\n",
    "array_comp[0,0] = n1\n",
    "array_comp[0,1] = n2\n",
    "cuda.select_device(1)\n",
    "threads_per_block = 1024\n",
    "blocks_per_grid2 = ((initial_instructions.shape[0] + (threads_per_block - 1)) // threads_per_block, (3 + threads_per_block -1) // threads_per_block)\n",
    "d_array_comp = cuda.to_device(array_comp)\n",
    "d_initial_instructions = cuda.to_device(initial_instructions)\n",
    "%timeit -r 7 -n 1000 kernel_compute[blocks_per_grid2, threads_per_block](d_array_comp, d_initial_instructions)"
   ]
  },
  {
   "cell_type": "code",
   "execution_count": 17,
   "id": "dc57ee13-59c4-4f9b-b75b-209327e69936",
   "metadata": {
    "tags": []
   },
   "outputs": [
    {
     "name": "stdout",
     "output_type": "stream",
     "text": [
      "77.4 ms ± 308 µs per loop (mean ± std. dev. of 7 runs, 1,000 loops each)\n"
     ]
    }
   ],
   "source": [
    "n1 = 40000\n",
    "n2 = 40000\n",
    "n_steps = 80000\n",
    "initial_instructions = np.array([0, 1]) \n",
    "array_comp = np.zeros((n_steps,4), dtype=np.int64)\n",
    "array_comp[0,0] = n1\n",
    "array_comp[0,1] = n2\n",
    "cuda.select_device(1)\n",
    "threads_per_block = 1024\n",
    "blocks_per_grid2 = ((initial_instructions.shape[0] + (threads_per_block - 1)) // threads_per_block, (3 + threads_per_block -1) // threads_per_block)\n",
    "d_array_comp = cuda.to_device(array_comp)\n",
    "d_initial_instructions = cuda.to_device(initial_instructions)\n",
    "%timeit kernel_compute[blocks_per_grid2, threads_per_block](d_array_comp, d_initial_instructions)"
   ]
  },
  {
   "cell_type": "code",
   "execution_count": 16,
   "id": "be718e65-d808-4208-9187-eebf458d3f6f",
   "metadata": {
    "tags": []
   },
   "outputs": [],
   "source": [
    "n1 = 50000\n",
    "n2 = 50000\n",
    "n_steps = 100000\n",
    "initial_instructions = np.array([0, 1]) \n",
    "array_comp = np.zeros((n_steps,4), dtype=np.int64)\n",
    "array_comp[0,0] = n1\n",
    "array_comp[0,1] = n2\n",
    "cuda.select_device(1)\n",
    "threads_per_block = 1024\n",
    "blocks_per_grid2 = ((initial_instructions.shape[0] + (threads_per_block - 1)) // threads_per_block, (3 + threads_per_block -1) // threads_per_block)\n",
    "d_array_comp = cuda.to_device(array_comp)\n",
    "d_initial_instructions = cuda.to_device(initial_instructions)"
   ]
  },
  {
   "cell_type": "code",
   "execution_count": 17,
   "id": "6dd2b37f-3fd8-4931-9e2b-b0124331a07b",
   "metadata": {
    "tags": []
   },
   "outputs": [
    {
     "name": "stdout",
     "output_type": "stream",
     "text": [
      "97.3 ms ± 367 ns per loop (mean ± std. dev. of 7 runs, 1,000 loops each)\n"
     ]
    }
   ],
   "source": [
    "%timeit kernel_compute[blocks_per_grid2, threads_per_block](d_array_comp, d_initial_instructions)"
   ]
  },
  {
   "cell_type": "markdown",
   "id": "448bc13f-dd9f-4c85-9301-2408223ca3f0",
   "metadata": {},
   "source": [
    "# CPU <a name=\"cpu\"></a>"
   ]
  },
  {
   "cell_type": "code",
   "execution_count": 18,
   "id": "c40cb53a-2c6d-4bb1-8ccb-42bea094e81f",
   "metadata": {
    "tags": []
   },
   "outputs": [],
   "source": [
    "def compute(n1,n2):\n",
    "    vm = spsuma(n1,n2)\n",
    "    vm.compute()\n",
    "    vm.restart()"
   ]
  },
  {
   "cell_type": "code",
   "execution_count": 4,
   "id": "fec86246-813b-4e55-8660-b7da47f9b68e",
   "metadata": {
    "tags": []
   },
   "outputs": [
    {
     "name": "stdout",
     "output_type": "stream",
     "text": [
      "530 µs ± 2.77 µs per loop (mean ± std. dev. of 7 runs, 1,000 loops each)\n"
     ]
    }
   ],
   "source": [
    "n1 = 100\n",
    "n2 = 100\n",
    "vm = spsuma(n1,n2)\n",
    "%timeit compute(n1,n2)"
   ]
  },
  {
   "cell_type": "code",
   "execution_count": 25,
   "id": "c69d5397-61b0-49d4-a89d-fb5eafad09a3",
   "metadata": {
    "tags": []
   },
   "outputs": [
    {
     "name": "stdout",
     "output_type": "stream",
     "text": [
      "2.46 ms ± 7.28 µs per loop (mean ± std. dev. of 7 runs, 100 loops each)\n"
     ]
    }
   ],
   "source": [
    "n1 = 500\n",
    "n2 = 500\n",
    "%timeit compute(n1,n2)"
   ]
  },
  {
   "cell_type": "code",
   "execution_count": 26,
   "id": "ae8f836b-4985-4ba3-ac15-2ef3adeb0b66",
   "metadata": {
    "tags": []
   },
   "outputs": [
    {
     "name": "stdout",
     "output_type": "stream",
     "text": [
      "9.79 ms ± 21.2 µs per loop (mean ± std. dev. of 7 runs, 100 loops each)\n"
     ]
    }
   ],
   "source": [
    "n1 = 2000\n",
    "n2 = 2000\n",
    "%timeit compute(n1,n2)"
   ]
  },
  {
   "cell_type": "code",
   "execution_count": 27,
   "id": "c36c9e11-cbff-4c02-9b43-fbdf1d89de7b",
   "metadata": {
    "tags": []
   },
   "outputs": [
    {
     "name": "stdout",
     "output_type": "stream",
     "text": [
      "24.4 ms ± 75.6 µs per loop (mean ± std. dev. of 7 runs, 10 loops each)\n"
     ]
    }
   ],
   "source": [
    "n1 = 5000\n",
    "n2 = 5000\n",
    "%timeit compute(n1,n2)"
   ]
  },
  {
   "cell_type": "code",
   "execution_count": 28,
   "id": "5370b656-a1f2-4247-91b8-a8a601d4f0a7",
   "metadata": {
    "tags": []
   },
   "outputs": [
    {
     "name": "stdout",
     "output_type": "stream",
     "text": [
      "48.8 ms ± 171 µs per loop (mean ± std. dev. of 7 runs, 10 loops each)\n"
     ]
    }
   ],
   "source": [
    "n1 = 10000\n",
    "n2 = 10000\n",
    "%timeit compute(n1,n2)"
   ]
  },
  {
   "cell_type": "code",
   "execution_count": 27,
   "id": "ae7d1dca-8785-4986-9b8b-45afb7018a24",
   "metadata": {
    "tags": []
   },
   "outputs": [
    {
     "name": "stdout",
     "output_type": "stream",
     "text": [
      "149 ms ± 512 µs per loop (mean ± std. dev. of 7 runs, 10 loops each)\n"
     ]
    }
   ],
   "source": [
    "n1 = 30000\n",
    "n2 = 30000\n",
    "%timeit compute(n1,n2)"
   ]
  },
  {
   "cell_type": "code",
   "execution_count": 19,
   "id": "bf4f81c7-830b-459b-be5d-2beba5c5e3f3",
   "metadata": {
    "tags": []
   },
   "outputs": [
    {
     "name": "stdout",
     "output_type": "stream",
     "text": [
      "203 ms ± 3.93 ms per loop (mean ± std. dev. of 7 runs, 1 loop each)\n"
     ]
    }
   ],
   "source": [
    "n1 = 40000\n",
    "n2 = 40000\n",
    "%timeit compute(n1,n2)"
   ]
  },
  {
   "cell_type": "code",
   "execution_count": 45,
   "id": "46533b56-87d1-4588-9270-0d8487cff5a9",
   "metadata": {
    "tags": []
   },
   "outputs": [
    {
     "name": "stdout",
     "output_type": "stream",
     "text": [
      "243 ms ± 1.58 ms per loop (mean ± std. dev. of 7 runs, 1 loop each)\n"
     ]
    }
   ],
   "source": [
    "n1 = 50000\n",
    "n2 = 50000\n",
    "%timeit compute(n1,n2)"
   ]
  },
  {
   "cell_type": "markdown",
   "id": "270a73bf-98c6-4a4e-9878-0af97d3c3496",
   "metadata": {
    "tags": []
   },
   "source": [
    "## CPU JIT <a name=\"cpujit\"></a>"
   ]
  },
  {
   "cell_type": "code",
   "execution_count": 5,
   "id": "eddb7a18-068a-4b30-944c-ac070d7cc6e0",
   "metadata": {
    "tags": []
   },
   "outputs": [],
   "source": [
    "@njit\n",
    "def spsumaJIT(array_comp, initial_instructions):\n",
    "    for i in range(1, array_comp.shape[0]):\n",
    "        if(array_comp[i-1][0] != 0 and array_comp[i-1][1] != 0):\n",
    "            for j in range(initial_instructions.shape[0]):   \n",
    "                array_comp[i][j] = array_comp[i-1][j] - 1\n",
    "                array_comp[i][2] = array_comp[i-1][2] + initial_instructions.shape[0] # sin pesos, voy a sumar la cantidad de instrucciones que se activen\n",
    "                array_comp[i][3] = 2\n",
    "        elif(array_comp[i-1][0] == 0 and array_comp[i-1][1] == 0):\n",
    "            sol = array_comp[i-1][2]\n",
    "            for j in range(array_comp.shape[0] - i):\n",
    "                array_comp[j + i][2] = sol\n",
    "                array_comp[j + i][3] = -1\n",
    "        else:\n",
    "            # mono instrucción por step:\n",
    "            if (array_comp[i-1][0] == 0 and array_comp[i-1][1] != 0):\n",
    "                array_comp[i][1] = array_comp[i-1][1] - 1\n",
    "                array_comp[i][2] = array_comp[i-1][2] + 1\n",
    "                array_comp[i][3] = 1\n",
    "            \n",
    "            elif(array_comp[i-1][1] == 0 and array_comp[i-1][0] != 0):\n",
    "                array_comp[i][0] = array_comp[i-1][0] - 1\n",
    "                array_comp[i][2] = array_comp[i-1][2] + 1\n",
    "                array_comp[i][3] = 0\n",
    "    \n",
    "    return array_comp"
   ]
  },
  {
   "cell_type": "code",
   "execution_count": 6,
   "id": "c430f3e7-8f1d-4f68-a199-d8fd4d435b82",
   "metadata": {
    "tags": []
   },
   "outputs": [
    {
     "name": "stdout",
     "output_type": "stream",
     "text": [
      "5.81 µs ± 3.69 µs per loop (mean ± std. dev. of 7 runs, 1 loop each)\n"
     ]
    }
   ],
   "source": [
    "n1 = 100\n",
    "n2 = 100\n",
    "n_steps =200\n",
    "initial_instructions = np.zeros((2,),dtype=np.int64) #i1 e i2 activas, que a su vez apuntan al host1 y host2 (posicion 0 y 1 del array de computacion)\n",
    "array_comp = np.zeros((n_steps,4), dtype=np.int64)\n",
    "array_comp[0,0] = n1\n",
    "array_comp[0,1] = n2\n",
    "%timeit spsumaJIT(array_comp,initial_instructions)"
   ]
  },
  {
   "cell_type": "code",
   "execution_count": 35,
   "id": "9eb6c88b-04f9-409f-b2cb-8d5ba2c1b25b",
   "metadata": {
    "tags": []
   },
   "outputs": [
    {
     "name": "stdout",
     "output_type": "stream",
     "text": [
      "80.8 µs ± 159 ns per loop (mean ± std. dev. of 7 runs, 10,000 loops each)\n"
     ]
    }
   ],
   "source": [
    "n1 = 500\n",
    "n2 = 500\n",
    "n_steps =1000\n",
    "initial_instructions = np.zeros((2,),dtype=np.int64) #i1 e i2 activas, que a su vez apuntan al host1 y host2 (posicion 0 y 1 del array de computacion)\n",
    "array_comp = np.zeros((n_steps,4), dtype=np.int64)\n",
    "array_comp[0,0] = n1\n",
    "array_comp[0,1] = n2\n",
    "%timeit spsumaJIT(array_comp,initial_instructions)"
   ]
  },
  {
   "cell_type": "code",
   "execution_count": 36,
   "id": "f1bcc5a2-87ec-4203-ac4f-728ef3122489",
   "metadata": {
    "tags": []
   },
   "outputs": [
    {
     "name": "stdout",
     "output_type": "stream",
     "text": [
      "1.27 ms ± 6.18 µs per loop (mean ± std. dev. of 7 runs, 1,000 loops each)\n"
     ]
    }
   ],
   "source": [
    "n1 = 2000\n",
    "n2 = 2000\n",
    "n_steps =4000\n",
    "initial_instructions = np.zeros((2,),dtype=np.int64) #i1 e i2 activas, que a su vez apuntan al host1 y host2 (posicion 0 y 1 del array de computacion)\n",
    "array_comp = np.zeros((n_steps,4), dtype=np.int64)\n",
    "array_comp[0,0] = n1\n",
    "array_comp[0,1] = n2\n",
    "%timeit spsumaJIT(array_comp,initial_instructions)"
   ]
  },
  {
   "cell_type": "code",
   "execution_count": 37,
   "id": "8f8f083c-f760-4a0a-a3d1-beb9905b6848",
   "metadata": {
    "tags": []
   },
   "outputs": [
    {
     "name": "stdout",
     "output_type": "stream",
     "text": [
      "7.95 ms ± 58.9 µs per loop (mean ± std. dev. of 7 runs, 100 loops each)\n"
     ]
    }
   ],
   "source": [
    "n1 = 5000\n",
    "n2 = 5000\n",
    "n_steps =10000\n",
    "initial_instructions = np.zeros((2,),dtype=np.int64) #i1 e i2 activas, que a su vez apuntan al host1 y host2 (posicion 0 y 1 del array de computacion)\n",
    "array_comp = np.zeros((n_steps,4), dtype=np.int64)\n",
    "array_comp[0,0] = n1\n",
    "array_comp[0,1] = n2\n",
    "%timeit spsumaJIT(array_comp,initial_instructions)"
   ]
  },
  {
   "cell_type": "code",
   "execution_count": 51,
   "id": "c3d38b49-c6b9-4e34-83a6-203cabbf032e",
   "metadata": {
    "tags": []
   },
   "outputs": [
    {
     "name": "stdout",
     "output_type": "stream",
     "text": [
      "33.2 ms ± 109 µs per loop (mean ± std. dev. of 7 runs, 10 loops each)\n"
     ]
    }
   ],
   "source": [
    "n1 = 10000\n",
    "n2 = 10000\n",
    "n_steps =20000\n",
    "initial_instructions = np.zeros((2,),dtype=np.int64) #i1 e i2 activas, que a su vez apuntan al host1 y host2 (posicion 0 y 1 del array de computacion)\n",
    "array_comp = np.zeros((n_steps,4), dtype=np.int64)\n",
    "array_comp[0,0] = n1\n",
    "array_comp[0,1] = n2\n",
    "%timeit spsumaJIT(array_comp,initial_instructions)"
   ]
  },
  {
   "cell_type": "code",
   "execution_count": 26,
   "id": "9a5a6ca5-7e5c-4e9e-867d-980ba9cb6282",
   "metadata": {
    "tags": []
   },
   "outputs": [
    {
     "name": "stdout",
     "output_type": "stream",
     "text": [
      "314 ms ± 2.36 ms per loop (mean ± std. dev. of 7 runs, 1 loop each)\n"
     ]
    }
   ],
   "source": [
    "n1 = 30000\n",
    "n2 = 30000\n",
    "n_steps =60000\n",
    "initial_instructions = np.zeros((2,),dtype=np.int64) #i1 e i2 activas, que a su vez apuntan al host1 y host2 (posicion 0 y 1 del array de computacion)\n",
    "array_comp = np.zeros((n_steps,4), dtype=np.int64)\n",
    "array_comp[0,0] = n1\n",
    "array_comp[0,1] = n2\n",
    "%timeit spsumaJIT(array_comp,initial_instructions)"
   ]
  },
  {
   "cell_type": "code",
   "execution_count": 20,
   "id": "0b2ea78a-cc57-4079-b09a-30a80f62a5be",
   "metadata": {
    "tags": []
   },
   "outputs": [
    {
     "name": "stdout",
     "output_type": "stream",
     "text": [
      "590 ms ± 2.01 ms per loop (mean ± std. dev. of 7 runs, 1 loop each)\n"
     ]
    }
   ],
   "source": [
    "n1 = 40000\n",
    "n2 = 40000\n",
    "n_steps =80000\n",
    "initial_instructions = np.zeros((2,),dtype=np.int64) #i1 e i2 activas, que a su vez apuntan al host1 y host2 (posicion 0 y 1 del array de computacion)\n",
    "array_comp = np.zeros((n_steps,4), dtype=np.int64)\n",
    "array_comp[0,0] = n1\n",
    "array_comp[0,1] = n2\n",
    "%timeit spsumaJIT(array_comp,initial_instructions)"
   ]
  },
  {
   "cell_type": "code",
   "execution_count": 3,
   "id": "a86a8414-a9eb-432a-986d-737a06137045",
   "metadata": {},
   "outputs": [
    {
     "name": "stdout",
     "output_type": "stream",
     "text": [
      "908 ms ± 3.18 ms per loop (mean ± std. dev. of 4 runs, 100 loops each)\n"
     ]
    }
   ],
   "source": [
    "n1 = 50000\n",
    "n2 = 50000\n",
    "n_steps =100000\n",
    "initial_instructions = np.zeros((2,),dtype=np.int64) #i1 e i2 activas, que a su vez apuntan al host1 y host2 (posicion 0 y 1 del array de computacion)\n",
    "array_comp = np.zeros((n_steps,4), dtype=np.int64)\n",
    "array_comp[0,0] = n1\n",
    "array_comp[0,1] = n2\n",
    "%timeit -r 4 -n 100 spsumaJIT(array_comp,initial_instructions)"
   ]
  },
  {
   "cell_type": "markdown",
   "id": "0aa40f51-7ae1-4be6-a241-4c28f1f09ee7",
   "metadata": {},
   "source": [
    "# GRAFICAS <a name=\"graficas\"></a>"
   ]
  },
  {
   "cell_type": "markdown",
   "id": "8f69ef14-f128-4f0f-8883-10f3d24e7121",
   "metadata": {},
   "source": [
    "## basicprobabilistic <a name=\"bs\"></a>"
   ]
  },
  {
   "cell_type": "code",
   "execution_count": 23,
   "id": "892e4629-97ca-473b-a292-509205fd4265",
   "metadata": {
    "tags": []
   },
   "outputs": [
    {
     "data": {
      "image/png": "[encoded data removed]",
      "text/plain": [
       "<Figure size 640x480 with 1 Axes>"
      ]
     },
     "metadata": {},
     "output_type": "display_data"
    }
   ],
   "source": [
    "#REGISTRO DE TIEMPOS (en ms)\n",
    "t_RTX_2080_100M = 20.3 + 7\n",
    "t_RTX_3090_100M= 16.3  + 5.29\n",
    "t_RTX_2080_25M = 6.06 + 3.9\n",
    "t_RTX_3090_25M = 4.03 + 2.07\n",
    "t_RTX_3090_4M = 0.621 + 1.06\n",
    "t_RTX_2080_4M = 0.825 + 1.58\n",
    "t_RTX_3090_8M = 1.06 + 1.25\n",
    "t_RTX_2080_8M = 1.75 + 1.61\n",
    "\n",
    "\n",
    "\n",
    "y1 = [t_RTX_2080_4M,t_RTX_2080_8M, t_RTX_2080_25M, t_RTX_2080_100M]\n",
    "y2 = [t_RTX_3090_4M,t_RTX_3090_8M, t_RTX_3090_25M,t_RTX_3090_100M]\n",
    "maximo = max(y1+y2)\n",
    "x = np.linspace(0,100000000,len(y1))\n",
    "\n",
    "plt.plot(x,y1, label='RTX_2080')\n",
    "plt.plot(x,y2, label='RTX_3090')\n",
    "\n",
    "\n",
    "plt.title(\"BASICPROBABILISTIC: Simulaciones en GPU\")\n",
    "plt.xlabel(\"Tamaño del problema\")\n",
    "plt.ylabel(\"Tiempo (ms)\")\n",
    "plt.legend()\n",
    "\n",
    "plt.show()\n"
   ]
  },
  {
   "cell_type": "code",
   "execution_count": 13,
   "id": "7dfdd958-1b3e-494f-9491-e5f1c95343bf",
   "metadata": {
    "tags": []
   },
   "outputs": [
    {
     "data": {
      "image/png": "[encoded data removed]",
      "text/plain": [
       "<Figure size 640x480 with 1 Axes>"
      ]
     },
     "metadata": {},
     "output_type": "display_data"
    }
   ],
   "source": [
    "t_CPU_JIT_4M = 38.1\n",
    "t_CPU_JIT_8M = 75.2\n",
    "t_CPU_JIT_25M = 242.2 \n",
    "t_CPU_JIT_100M = 950\n",
    "\n",
    "t_CPU_4M = 9.79 * 1000\n",
    "t_CPU_8M = 19.8 * 1000\n",
    "t_CPU_25M = 62 * 1000\n",
    "t_CPU_100M = 242 * 1000\n",
    "\n",
    "\n",
    "y3 = [t_CPU_JIT_4M,t_CPU_JIT_8M,t_CPU_JIT_25M,t_CPU_JIT_100M]\n",
    "y4 = [t_CPU_4M, t_CPU_8M, t_CPU_25M, t_CPU_100M]\n",
    "\n",
    "x = np.linspace(0,100000000,len(y1))\n",
    "\n",
    "plt.plot(x,y1, label='RTX_2080')\n",
    "plt.plot(x,y2, label='RTX_3090')\n",
    "plt.plot(x,y3, label='Numba JIT (CPU)')\n",
    "plt.plot(x,y4, label='Python puro (CPU)')\n",
    "plt.yscale('log')\n",
    "\n",
    "plt.title(\"BASICPROBABILISTIC: Comparaciones en GPU y CPU\")\n",
    "plt.xlabel(\"Tamaño del problema\")\n",
    "plt.ylabel(\"Tiempo (ms)\")\n",
    "plt.legend()\n",
    "\n",
    "plt.show()"
   ]
  },
  {
   "cell_type": "markdown",
   "id": "88c12dbb-2274-456c-b957-071b4e05e386",
   "metadata": {
    "tags": []
   },
   "source": [
    "## spsuma <a name=\"sp\"></a>\n"
   ]
  },
  {
   "cell_type": "code",
   "execution_count": 6,
   "id": "47c3fe97-9942-4f80-be59-7dddc1deab05",
   "metadata": {
    "tags": []
   },
   "outputs": [
    {
     "data": {
      "image/png": "[encoded data removed]",
      "text/plain": [
       "<Figure size 640x480 with 1 Axes>"
      ]
     },
     "metadata": {},
     "output_type": "display_data"
    }
   ],
   "source": [
    "t_RTX_2080_100K = 104\n",
    "t_RTX_2080_80K = 84.9\n",
    "t_RTX_2080_60K = 66.9\n",
    "t_RTX_2080_20K = 20.2\n",
    "t_RTX_2080_10K = 9.72\n",
    "t_RTX_2080_4K = 3.76\n",
    "t_RTX_2080_1K = 0.542\n",
    "t_RTX_2080_200 = 0.09\n",
    "\n",
    "t_RTX_3090_100K = 97.3\n",
    "t_RTX_3090_80K = 77.4\n",
    "t_RTX_3090_60K = 49.3\n",
    "t_RTX_3090_20K = 18.8\n",
    "t_RTX_3090_10K = 9.07\n",
    "t_RTX_3090_4K = 3.24\n",
    "t_RTX_3090_1K = 0.460\n",
    "t_RTX_3090_200 = 0.079\n",
    "\n",
    "y1 = [t_RTX_2080_200,t_RTX_2080_1K, t_RTX_2080_4K, t_RTX_2080_10K, t_RTX_2080_20K, t_RTX_2080_60K, t_RTX_2080_80K, t_RTX_2080_100K]\n",
    "y2 = [t_RTX_3090_200,t_RTX_3090_1K, t_RTX_3090_4K,t_RTX_3090_10K, t_RTX_3090_20K, t_RTX_3090_60K, t_RTX_3090_80K, t_RTX_3090_100K]\n",
    "maximo = max(y1+y2)\n",
    "x = np.linspace(0,100_000,len(y1))\n",
    "\n",
    "plt.plot(x,y1, label='RTX_2080')\n",
    "plt.plot(x,y2, label='RTX_3090')\n",
    "\n",
    "\n",
    "plt.title(\"SPSUMA. Comparaciones entre GPU\")\n",
    "plt.xlabel(\"Número de steps\")\n",
    "plt.ylabel(\"Tiempo (ms)\")\n",
    "plt.legend()\n",
    "\n",
    "plt.show()"
   ]
  },
  {
   "cell_type": "code",
   "execution_count": 9,
   "id": "8019c7bf-d163-4e4d-ab1a-dc80e32c94b7",
   "metadata": {
    "tags": []
   },
   "outputs": [
    {
     "data": {
      "image/png": "[encoded data removed]",
      "text/plain": [
       "<Figure size 640x480 with 1 Axes>"
      ]
     },
     "metadata": {},
     "output_type": "display_data"
    }
   ],
   "source": [
    "t_CPU_200 = 0.530\n",
    "t_CPU_1k = 2.46\n",
    "t_CPU_4k = 9.79\n",
    "t_CPU_10k = 24.4\n",
    "t_CPU_20k = 48.8\n",
    "t_CPU_60k = 149\n",
    "t_CPU_80k = 203\n",
    "t_CPU_100k = 243\n",
    "\n",
    "t_CPU_JIT_200 = 5.81/1000\n",
    "t_CPU_JIT_1k = 80.8/1000\n",
    "t_CPU_JIT_4k = 1.27\n",
    "t_CPU_JIT_10k = 7.95\n",
    "t_CPU_JIT_20k = 32.5\n",
    "t_CPU_JIT_60k = 314\n",
    "t_CPU_JIT_80k = 590\n",
    "t_CPU_JIT_100k = 905\n",
    "\n",
    "\n",
    "y3 = [t_CPU_200, t_CPU_1k, t_CPU_4k, t_CPU_10k, t_CPU_20k, t_CPU_60k, t_CPU_80k, t_CPU_100k]\n",
    "y4 = [t_CPU_JIT_200, t_CPU_JIT_1k, t_CPU_JIT_4k, t_CPU_JIT_10k, t_CPU_JIT_20k, t_CPU_JIT_60k, t_CPU_JIT_80k, t_CPU_JIT_100k]\n",
    "x = np.linspace(0,100_000,len(y1))\n",
    "\n",
    "plt.plot(x,y1, label='RTX_2080')\n",
    "plt.plot(x,y2, label='RTX_3090')\n",
    "plt.plot(x,y3, label='CPU')\n",
    "plt.plot(x,y4, label='Numba JIT secuencial')\n",
    "\n",
    "plt.yscale('log')\n",
    "\n",
    "plt.title(\"SPSUMA. Comparaciones entre GPU y CPU\")\n",
    "plt.xlabel(\"Número de steps\")\n",
    "plt.ylabel(\"Tiempo (ms)\")\n",
    "plt.legend()\n",
    "\n",
    "plt.show()\n",
    "\n"
   ]
  },
  {
   "cell_type": "code",
   "execution_count": 4,
   "id": "46640100-0362-4afe-9539-5cbf8ca2aef8",
   "metadata": {
    "tags": []
   },
   "outputs": [
    {
     "name": "stdout",
     "output_type": "stream",
     "text": [
      "6.07 ms ± 16.7 µs per loop (mean ± std. dev. of 7 runs, 1,000 loops each)\n"
     ]
    }
   ],
   "source": []
  },
  {
   "cell_type": "code",
   "execution_count": 9,
   "id": "ab97b1fc-5486-4283-8884-a1d2cee540ac",
   "metadata": {
    "tags": []
   },
   "outputs": [
    {
     "name": "stdout",
     "output_type": "stream",
     "text": [
      "<CUDA device 0 'b'NVIDIA GeForce RTX 3090''>\n"
     ]
    }
   ],
   "source": []
  },
  {
   "cell_type": "code",
   "execution_count": 10,
   "id": "ce72155f-413a-42b8-8732-1ada9a94f5ff",
   "metadata": {
    "tags": []
   },
   "outputs": [
    {
     "name": "stdout",
     "output_type": "stream",
     "text": [
      "<CUDA device 1 'b'NVIDIA GeForce RTX 2080''>\n"
     ]
    }
   ],
   "source": []
  },
  {
   "cell_type": "code",
   "execution_count": 3,
   "id": "dd14e512-30ed-417f-9d39-94409ef7a3a4",
   "metadata": {
    "tags": []
   },
   "outputs": [],
   "source": []
  },
  {
   "cell_type": "code",
   "execution_count": 4,
   "id": "47e5c510-407f-40fb-ac51-3e6bafcd95be",
   "metadata": {
    "tags": []
   },
   "outputs": [
    {
     "name": "stdout",
     "output_type": "stream",
     "text": [
      "6.74 ms ± 9.57 µs per loop (mean ± std. dev. of 7 runs, 1,000 loops each)\n"
     ]
    }
   ],
   "source": []
  },
  {
   "cell_type": "code",
   "execution_count": null,
   "id": "75b0e27e-8296-408c-ae4e-f0329c577e16",
   "metadata": {},
   "outputs": [],
   "source": []
  }
 ],
 "metadata": {
  "kernelspec": {
   "display_name": "Python 3 (ipykernel)",
   "language": "python",
   "name": "python3"
  },
  "language_info": {
   "codemirror_mode": {
    "name": "ipython",
    "version": 3
   },
   "file_extension": ".py",
   "mimetype": "text/x-python",
   "name": "python",
   "nbconvert_exporter": "python",
   "pygments_lexer": "ipython3",
   "version": "3.9.16"
  }
 },
 "nbformat": 4,
 "nbformat_minor": 5
}
